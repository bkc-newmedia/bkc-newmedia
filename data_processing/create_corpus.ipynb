{
 "cells": [
  {
   "cell_type": "code",
   "execution_count": null,
   "metadata": {},
   "outputs": [],
   "source": [
    "\"\"\"\n",
    "bert모델 학습을 위한 corpus를 생성한다. \n",
    "성별 기사와 카테고리 기사를 모두 이용한다. \n",
    "카테고리 기사에서 성별이 언급되었을 경우, \n",
    "성별 기사와의 중복을 피하기 위해 그 기사는 제거한다. \n",
    "\"\"\"\n",
    "\n",
    "\n",
    "import numpy as np\n",
    "import pandas as pd\n",
    "import os\n",
    "import glob\n",
    "\n",
    "dir_ = os.path.join(os.path.dirname(os.getcwd()), \"corpus\")\n",
    "if not os.path.exists(dir_):\n",
    "    os.makedirs(dir_)\n",
    "\n",
    "qlist = [\"여성\", \"여자+-여성\", \"남성\", '남자+-남성']\n",
    "\n",
    "for query in qlist:\n",
    "    \n",
    "    for year in range(2000, 2020):\n",
    "\n",
    "        for month in range(1, 13):\n",
    "\n",
    "            xlsx_name = os.path.join(os.path.dirname(os.getcwd()), 'xlsx_data', '#2_html2text', \"#2_merged\", \"#2_merged_\"+query, \n",
    "                                     f\"{'#2_'+str(year)+'_'+str(month).zfill(2)+'_'+query}.xlsx\")\n",
    "\n",
    "            df = pd.read_excel(xlsx_name, index_col=0)\n",
    "            df['total'] = df['title'].str.strip() + \".\\n\" + df['text'].str.strip() + \"\\n\"\n",
    "\n",
    "            txt_name = os.path.join(dir_, f\"{'#2_'+str(year)+'_'+str(month).zfill(2)+'_'+query}.txt\")\n",
    "\n",
    "            np.savetxt(txt_name, df[['total']].values, fmt='%s', encoding='utf-8')"
   ]
  },
  {
   "cell_type": "code",
   "execution_count": null,
   "metadata": {},
   "outputs": [],
   "source": [
    "qlist = [\"IT과학\", \"경제\", \"사회\", \"생활문화\", \"세계\", \"연예\", \"정치\"]\n",
    "\n",
    "for query in qlist:\n",
    "    \n",
    "    for year in range(2005, 2020):\n",
    "\n",
    "        for month in range(1, 13):\n",
    "\n",
    "            xlsx_name = os.path.join(os.path.dirname(os.getcwd()), 'xlsx_data', 'category', '#2_html2text', \"#2_\"+query, \n",
    "                                     '#2_'+str(year)+'_'+query, f\"{'#2_'+str(month).zfill(2)+'_'+query}.xlsx\")\n",
    "\n",
    "            df = pd.read_excel(xlsx_name)\n",
    "            df = df[~df['text'].str.contains('여성|여자|남성|남자')]\n",
    "            df['total'] = df['title'].str.strip() + \"\\n\" + df['text'].str.strip() + \"\\n\"\n",
    "\n",
    "            txt_name = os.path.join(dir_, f\"{'#2_'+str(year)+'_'+str(month).zfill(2)+'_'+query}.txt\")\n",
    "\n",
    "            np.savetxt(txt_name, df[['total']].values, fmt='%s', encoding='utf-8')"
   ]
  }
 ],
 "metadata": {
  "kernelspec": {
   "display_name": "Python 3",
   "language": "python",
   "name": "python3"
  },
  "language_info": {
   "codemirror_mode": {
    "name": "ipython",
    "version": 3
   },
   "file_extension": ".py",
   "mimetype": "text/x-python",
   "name": "python",
   "nbconvert_exporter": "python",
   "pygments_lexer": "ipython3",
   "version": "3.7.7"
  }
 },
 "nbformat": 4,
 "nbformat_minor": 4
}
