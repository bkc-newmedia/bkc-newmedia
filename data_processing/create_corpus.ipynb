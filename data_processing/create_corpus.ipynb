{
 "cells": [
  {
   "cell_type": "code",
   "execution_count": null,
   "metadata": {},
   "outputs": [],
   "source": [
    "import numpy as np\n",
    "import pandas as pd\n",
    "import os\n",
    "import glob\n",
    "\n",
    "dir_ = os.path.join(os.path.dirname(os.getcwd()), 'xlsx_data', '#2_html2text', \"#2_corpus\")\n",
    "if not os.path.exists(dir_):\n",
    "    os.makedirs(dir_)\n",
    "\n",
    "qlist = [\"여성\", \"여자+-여성\", \"남성\", '남자+-남성']\n",
    "\n",
    "for query in qlist:\n",
    "    \n",
    "    for year in range(2000, 2020):\n",
    "\n",
    "        for month in range(1, 13):\n",
    "\n",
    "            xlsx_name = os.path.join(os.path.dirname(os.getcwd()), 'xlsx_data', '#2_html2text', \"#2_\" + query, \"#2_merged_\"+query, \n",
    "                                     f\"{'#2_'+str(year)+'_'+str(month).zfill(2)+'_'+query}.xlsx\")\n",
    "\n",
    "            df = pd.read_excel(xlsx_name, index_col=0)\n",
    "            df['total'] = df['title'].str.strip() + \"\\n\" + df['text'].str.strip() + \"\\n\"\n",
    "\n",
    "            txt_name = os.path.join(os.path.dirname(os.getcwd()), 'xlsx_data', '#2_html2text', \"#2_corpus\", \n",
    "                                     f\"{'#2_'+str(year)+'_'+str(month).zfill(2)+'_'+query}.txt\")\n",
    "\n",
    "            np.savetxt(txt_name, df[['total']].values, fmt='%s')"
   ]
  },
  {
   "cell_type": "code",
   "execution_count": null,
   "metadata": {},
   "outputs": [],
   "source": [
    "dir_ = os.path.join(os.path.dirname(os.getcwd()), 'xlsx_data', 'category', '#2_html2text', \"#2_corpus\")\n",
    "if not os.path.exists(dir_):\n",
    "    os.makedirs(dir_)\n",
    "\n",
    "qlist = [\"IT과학\", \"경제\", \"사회\", \"생활문화\", \"세계\", \"연예\", \"정치\"]\n",
    "\n",
    "for query in qlist:\n",
    "    \n",
    "    for year in range(2000, 2020):\n",
    "\n",
    "        for month in range(1, 13):\n",
    "\n",
    "            xlsx_name = os.path.join(os.path.dirname(os.getcwd()), 'xlsx_data', 'category', '#2_html2text', \"#2_\"+query, \n",
    "                                     '#2_'+str(year)+'_'+query, \"f\"{'#2_'+str(month).zfill(2)+'_'+query}.xlsx\")\n",
    "\n",
    "            df = pd.read_excel(xlsx_name, index_col=0)\n",
    "            df = df[~df['text'].str.contains('여성|여자|남성|남자')]\n",
    "            df['total'] = df['title'].str.strip() + \"\\n\" + df['text'].str.strip() + \"\\n\"\n",
    "\n",
    "            txt_name = os.path.join(os.path.dirname(os.getcwd()), 'xlsx_data', 'category', '#2_html2text', \"#2_corpus\", \n",
    "                                     f\"{'#2_'+str(year)+'_'+str(month).zfill(2)+'_'+query}.txt\")\n",
    "\n",
    "            np.savetxt(txt_name, df[['total']].values, fmt='%s')"
   ]
  },
  {
   "cell_type": "code",
   "execution_count": null,
   "metadata": {},
   "outputs": [],
   "source": [
    "path1 = os.path.join(os.path.dirname(os.getcwd()), 'xlsx_data', '#2_html2text', \"#2_corpus\")\n",
    "path2_1 = os.path.join(os.path.dirname(os.getcwd()), 'xlsx_data', '#2_html2text', f\"{'sex'}.txt\")\n",
    "\n",
    "read_files = glob.glob(path1+\"/*.txt\")\n",
    "\n",
    "with open(path2_1, \"wb\") as outfile:\n",
    "    for f in read_files:\n",
    "        with open(f, \"rb\") as infile:\n",
    "            outfile.write(infile.read())"
   ]
  },
  {
   "cell_type": "code",
   "execution_count": null,
   "metadata": {},
   "outputs": [],
   "source": [
    "path1 = os.path.join(os.path.dirname(os.getcwd()), 'xlsx_data', 'category', '#2_html2text', \"#2_corpus\")\n",
    "path2_2 = os.path.join(os.path.dirname(os.getcwd()), 'xlsx_data', '#2_html2text', 'category', f\"{'category'}.txt\")\n",
    "\n",
    "read_files = glob.glob(path1+\"/*.txt\")\n",
    "\n",
    "with open(path2_2, \"wb\") as outfile:\n",
    "    for f in read_files:\n",
    "        with open(f, \"rb\") as infile:\n",
    "            outfile.write(infile.read())"
   ]
  },
  {
   "cell_type": "code",
   "execution_count": null,
   "metadata": {},
   "outputs": [],
   "source": [
    "read_files = [path2_1, path2_2]\n",
    "with open(os.path.join(os.path.dirname(os.getcwd()), 'xlsx_data', f\"{'corpus'}.txt\"), 'wb') as outfile:\n",
    "    for f in read_files:\n",
    "        with open(f, \"rb\") as infile:\n",
    "            outfile.write(infile.read())"
   ]
  }
 ],
 "metadata": {
  "kernelspec": {
   "display_name": "Python 3",
   "language": "python",
   "name": "python3"
  },
  "language_info": {
   "codemirror_mode": {
    "name": "ipython",
    "version": 3
   },
   "file_extension": ".py",
   "mimetype": "text/x-python",
   "name": "python",
   "nbconvert_exporter": "python",
   "pygments_lexer": "ipython3",
   "version": "3.7.7"
  }
 },
 "nbformat": 4,
 "nbformat_minor": 4
}
