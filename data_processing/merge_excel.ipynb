{
 "cells": [
  {
   "cell_type": "code",
   "execution_count": null,
   "metadata": {},
   "outputs": [],
   "source": [
    "import os\n",
    "import calendar\n",
    "import pandas as pd\n",
    "import time\n",
    "\n",
    "cal = calendar.Calendar()\n",
    "\n",
    "start = time.time()\n",
    "\n",
    "qlist = [\"여성\", \"여자+-여성\", \"남성\", '남자+-남성']\n",
    "\n",
    "count = 0\n",
    "\n",
    "for query in qlist:\n",
    "    for year in range(2000, 2020):\n",
    "        for month in range(1, 13):\n",
    "                monthdays = [d for d in cal.itermonthdays(year, month) if d != 0]\n",
    "                for day in monthdays:\n",
    "\n",
    "                    date = str(year) + str(month).zfill(2) + str(day).zfill(2)\n",
    "                    \n",
    "                    xlsx_name = os.path.join(os.path.dirname(os.getcwd()), 'xlsx_data', '#2_html2text', \"#2_\" + query, \n",
    "                                             '#2_'+ str(year) + '_'+query, f\"{'#2_'+date+'_'+query}.xlsx\")\n",
    "\n",
    "                    df = pd.read_excel(xlsx_name)\n",
    "                    count += len(df)\n",
    "\n",
    "print(count, \"\\n\")\n",
    "\n",
    "end = time.time()\n",
    "print(end - start)"
   ]
  },
  {
   "cell_type": "code",
   "execution_count": null,
   "metadata": {},
   "outputs": [],
   "source": [
    "import glob\n",
    "\n",
    "for query in qlist:\n",
    "    dir_ = os.path.join(os.path.dirname(os.getcwd()), 'xlsx_data', '#2_html2text', \"#2_\"+query, \"#2_merged_\"+query)\n",
    "    if not os.path.exists(dir_):\n",
    "        os.makedirs(dir_)\n",
    "        \n",
    "    for year in range(2000, 2020):\n",
    "        path = os.path.join(os.path.dirname(os.getcwd()), 'xlsx_data', '#2_html2text', \"#2_\"+query, '#2_'+str(year)+'_'+query)\n",
    "        for month in range(1, 13):\n",
    "            g = map(pd.read_excel, glob.glob(path+\"/#2_\"+str(year)+str(month).zfill(2)+\"??_\"+query+\".xlsx\"))\n",
    "            df = pd.concat(list(g), ignore_index=True)\n",
    "            xlsx_name = os.path.join(dir_, f\"{'#2_'+str(year)+'_'+str(month).zfill(2)+'_'+query}.xlsx\")\n",
    "            df.to_excel(xlsx_name)"
   ]
  },
  {
   "cell_type": "code",
   "execution_count": null,
   "metadata": {
    "scrolled": true
   },
   "outputs": [],
   "source": [
    "start = time.time()\n",
    "\n",
    "count = 0\n",
    "\n",
    "for query in qlist:\n",
    "    for year in range(2000, 2020):\n",
    "        for month in range(1, 13):\n",
    "            \n",
    "            xlsx_name = os.path.join(os.path.dirname(os.getcwd()), 'xlsx_data', '#2_html2text', \"#2_\" + query, \"#2_merged_\"+query, \n",
    "                                     f\"{'#2_'+str(year)+'_'+str(month).zfill(2)+'_'+query}.xlsx\")\n",
    "            df = pd.read_excel(xlsx_name)\n",
    "            count += len(df)\n",
    "\n",
    "                    \n",
    "print(count, \"\\n\")\n",
    "\n",
    "end = time.time()\n",
    "print(end - start)"
   ]
  },
  {
   "cell_type": "code",
   "execution_count": null,
   "metadata": {},
   "outputs": [],
   "source": []
  }
 ],
 "metadata": {
  "kernelspec": {
   "display_name": "Python 3",
   "language": "python",
   "name": "python3"
  },
  "language_info": {
   "codemirror_mode": {
    "name": "ipython",
    "version": 3
   },
   "file_extension": ".py",
   "mimetype": "text/x-python",
   "name": "python",
   "nbconvert_exporter": "python",
   "pygments_lexer": "ipython3",
   "version": "3.7.7"
  }
 },
 "nbformat": 4,
 "nbformat_minor": 4
}
