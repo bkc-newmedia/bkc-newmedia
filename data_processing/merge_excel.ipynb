{
 "cells": [
  {
   "cell_type": "code",
   "execution_count": 1,
   "metadata": {},
   "outputs": [
    {
     "name": "stdout",
     "output_type": "stream",
     "text": [
      "10784446 \n",
      "\n",
      "1496.9940371513367\n"
     ]
    }
   ],
   "source": [
    "\"\"\"\n",
    "일 단위의 엑셀을 월 단위의 엑셀로 합친다.\n",
    "엑셀 데이터의 용량과 열람 시간을 줄이고, calendar를 쓸 필요가 없어진다. \n",
    "일 단위와 월 단위로 합쳤을 때의 총 기사 수 구하는 작업에 걸리는 시간을 비교하고,\n",
    "총 기사 수를 비교해서 합치는 작업이 제대로 되었는지 확인한다.  \n",
    "\"\"\"\n",
    "\n",
    "import os\n",
    "import calendar\n",
    "import pandas as pd\n",
    "import time\n",
    "\n",
    "cal = calendar.Calendar()\n",
    "\n",
    "start = time.time()\n",
    "\n",
    "qlist = [\"여성\", \"여자+-여성\", \"남성\", '남자+-남성']\n",
    "\n",
    "count = 0\n",
    "\n",
    "for query in qlist:\n",
    "    for year in range(2000, 2020):\n",
    "        for month in range(1, 13):\n",
    "                monthdays = [d for d in cal.itermonthdays(year, month) if d != 0]\n",
    "                for day in monthdays:\n",
    "\n",
    "                    date = str(year) + str(month).zfill(2) + str(day).zfill(2)\n",
    "                    \n",
    "                    xlsx_name = os.path.join(os.path.dirname(os.getcwd()), 'xlsx_data', '#2_html2text', \"#2_\" + query, \n",
    "                                             '#2_'+ str(year) + '_'+query, f\"{'#2_'+date+'_'+query}.xlsx\")\n",
    "\n",
    "                    df = pd.read_excel(xlsx_name)\n",
    "                    count += len(df)\n",
    "\n",
    "print(count, \"\\n\") # 전체 기사 수\n",
    "\n",
    "end = time.time()\n",
    "print(end - start) # 일 단위 엑셀로 전체 기사 수를 구하는데 걸린 시간"
   ]
  },
  {
   "cell_type": "code",
   "execution_count": 2,
   "metadata": {},
   "outputs": [],
   "source": [
    "import glob\n",
    "\n",
    "for query in qlist:\n",
    "    dir_ = os.path.join(os.path.dirname(os.getcwd()), 'xlsx_data', '#2_html2text', \"#2_merged\", \"#2_merged_\"+query)\n",
    "    if not os.path.exists(dir_):\n",
    "        os.makedirs(dir_)\n",
    "        \n",
    "    for year in range(2000, 2020):\n",
    "        path = os.path.join(os.path.dirname(os.getcwd()), 'xlsx_data', '#2_html2text', \"#2_\"+query, '#2_'+str(year)+'_'+query)\n",
    "        for month in range(1, 13): # 월별로 합친다. 그 이상은 한 엑셀 당 url수 초과로 불가함.\n",
    "            g = map(pd.read_excel, glob.glob(path+\"/#2_\"+str(year)+str(month).zfill(2)+\"??_\"+query+\".xlsx\")) \n",
    "            df = pd.concat(list(g), ignore_index=True)\n",
    "            xlsx_name = os.path.join(dir_, f\"{'#2_'+str(year)+'_'+str(month).zfill(2)+'_'+query}.xlsx\")\n",
    "            df.to_excel(xlsx_name)"
   ]
  },
  {
   "cell_type": "code",
   "execution_count": 3,
   "metadata": {
    "scrolled": true
   },
   "outputs": [
    {
     "name": "stdout",
     "output_type": "stream",
     "text": [
      "10784446 \n",
      "\n",
      "1169.473009109497\n"
     ]
    }
   ],
   "source": [
    "start = time.time()\n",
    "\n",
    "count = 0\n",
    "\n",
    "for query in qlist:\n",
    "    for year in range(2000, 2020):\n",
    "        for month in range(1, 13):\n",
    "            \n",
    "            xlsx_name = os.path.join(os.path.dirname(os.getcwd()), 'xlsx_data', '#2_html2text', \"#2_merged\", \"#2_merged_\"+query, \n",
    "                                     f\"{'#2_'+str(year)+'_'+str(month).zfill(2)+'_'+query}.xlsx\")\n",
    "            df = pd.read_excel(xlsx_name)\n",
    "            count += len(df)\n",
    "\n",
    "                    \n",
    "print(count, \"\\n\") # 전체 기사 수. 위와 동일한 지 확인\n",
    "\n",
    "end = time.time()\n",
    "print(end - start) # 월 단위 엑셀로 전체 기사 수를 구하는데 걸린 시간"
   ]
  }
 ],
 "metadata": {
  "kernelspec": {
   "display_name": "Python 3",
   "language": "python",
   "name": "python3"
  },
  "language_info": {
   "codemirror_mode": {
    "name": "ipython",
    "version": 3
   },
   "file_extension": ".py",
   "mimetype": "text/x-python",
   "name": "python",
   "nbconvert_exporter": "python",
   "pygments_lexer": "ipython3",
   "version": "3.7.7"
  }
 },
 "nbformat": 4,
 "nbformat_minor": 4
}
