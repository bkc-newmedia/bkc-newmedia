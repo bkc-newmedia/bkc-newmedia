{
 "cells": [
  {
   "cell_type": "code",
   "execution_count": 6,
   "metadata": {},
   "outputs": [],
   "source": [
    "def sub_body(text, rep):\n",
    "                \n",
    "        from nltk.tokenize import regexp_tokenize\n",
    "        from string import punctuation\n",
    "        import re\n",
    "        \n",
    "        pattern = re.compile(\"|\".join(rep.keys()))\n",
    "        \n",
    "        tlist, ttlist= list(), list()\n",
    "        text = regexp_tokenize(text, r'[^\\s\\.][^\\.\\n]+')\n",
    "        for _ in text:\n",
    "            if len(_) > 11:\n",
    "                tlist.append(_)\n",
    "                \n",
    "        text = \".\\n\".join(tlist) + \".\"\n",
    "\n",
    "        text = re.sub(r'\\d+\\.(\\n)\\d+', r'', text)\n",
    "        text = re.sub(r'\\b(\\w|[.])+@(?:[.]?\\w+)+\\b', ' ', text)\n",
    "        text = re.sub(r'\\bhttps?://\\w+(?:[.]?\\w+)+\\b', ' ', text)\n",
    "        text = re.sub(r'[^A-Za-z0-9가-힣ㄱ-하-ㅣ\\.?!\\n ]', ' ', text)\n",
    "        text = re.sub(r'\\b[a-z][A-Za-z0-9]+\\b', ' ', text)\n",
    "        text = re.sub(r'\\s{2,}', ' ', text) \n",
    "        text = re.sub(r'[\\(\\[].*?[\\)\\]]', '', text)\n",
    "        text = re.sub('【.*】','',text)\n",
    "        text = re.sub(r'\"\\\\#\\\\$%\\\\&\\'\\\\(\\\\)\\\\*\\\\+,\\\\-\\/:;<=>\\@\\\\[\\\\\\\\\\\\]\\\\^_`\\\\{\\\\|\\\\}\\\\~', '', text)\n",
    "        \n",
    "        text = re.sub(r\"-\\d+-\", '', text) # 이거 전에 '-'제거하면 안됨.\n",
    "        text = re.sub(r\"\\b\\w{3}\\s기자\", '', text)\n",
    "        text = re.sub(r'\\s?[a-z]\\s', ' ', text)\n",
    "        text = re.sub(r'\\s+\\d+px?', '', text)\n",
    "        text = re.sub(r'\\s\\d+\\s\\d+\\s\\d+\\s', '', text)\n",
    "        text = re.sub(r'\\s?(\\d+\\s)', '', text)\n",
    "        text = re.sub(r'((\\d+[a-z])+)', '', text)\n",
    "        text = re.sub(r'[A-Z0-9a-z][A-Z0-9a-z]', '', text)\n",
    "        text = re.sub(r'\\b[A-Z0-9]\\b', '', text)\n",
    "        \n",
    "        text = re.sub('해당 언론사가.*?가시겠습니까?','',text,flags=re.DOTALL)\n",
    "        text = re.sub('무단전재.*?분류했습니다.','',text,flags=re.DOTALL)\n",
    "        text = re.sub('기사 섹션 분류 안내.*?따르고 있습니다.','',text,flags=re.DOTALL)\n",
    "        text = re.sub('네이버에서.*?클릭','',text,flags=re.DOTALL)\n",
    "        text = re.sub('제한된 글자수 자를.*?비밀번호 가 일치 하지 않습니다.','',text,flags=re.DOTALL)\n",
    "        text = re.sub('네이버에서.*?채널 구독하기','',text,flags=re.DOTALL)\n",
    "        \n",
    "        text = pattern.sub(lambda m: rep[re.escape(m.group(0))], text)\n",
    "\n",
    "        try: \n",
    "            text = text[:text.rindex('다.')+2]\n",
    "            text = text.split(sep='.')\n",
    "            for _ in text:\n",
    "                if len(re.sub(r'\\s{2,}', ' ', _)) > 11:\n",
    "                    ttlist.append(re.sub(r'\\s{2,}', ' ', _))\n",
    "                    \n",
    "            text = \".\".join(ttlist) + \".\"\n",
    "            return text\n",
    "        except:\n",
    "            return 0"
   ]
  },
  {
   "cell_type": "code",
   "execution_count": null,
   "metadata": {},
   "outputs": [],
   "source": []
  }
 ],
 "metadata": {
  "kernelspec": {
   "display_name": "Python 3",
   "language": "python",
   "name": "python3"
  },
  "language_info": {
   "codemirror_mode": {
    "name": "ipython",
    "version": 3
   },
   "file_extension": ".py",
   "mimetype": "text/x-python",
   "name": "python",
   "nbconvert_exporter": "python",
   "pygments_lexer": "ipython3",
   "version": "3.7.7"
  }
 },
 "nbformat": 4,
 "nbformat_minor": 4
}
