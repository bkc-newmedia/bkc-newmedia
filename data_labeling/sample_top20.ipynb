{
 "cells": [
  {
   "cell_type": "code",
   "execution_count": null,
   "metadata": {},
   "outputs": [],
   "source": [
    "\"\"\"\n",
    "긍정 기사 상위 1048576개, 부정 기사 상위 1048576개를 각각 하나의 파일로 생성한다. \n",
    "new_dict를 생성하고 후에는 BERT fine-tuning을 위한 파일이다. \n",
    "상위 기사를 따로 추출하는 이유는, 확실히 긍정 또는 부정인 기사를 사용하기 위해서이다. \n",
    "전체 성별 기사는 10784446이고 한 엑셀의 최대 row는 1048576로, \n",
    "전체 성별 기사의 10%인 1078444와 유사하므로 최대 row를 기준으로 상위 파일을 선별한다.\n",
    "\n",
    "\"\"\"\n",
    "\n",
    "\n",
    "import glob\n",
    "import os\n",
    "import pandas as pd\n",
    "\n",
    "top = 1048576\n",
    "version = \"knu_score\" #\"new_dict_score\"\n",
    "qlist = [\"여성\", \"여자+-여성\", \"남성\", '남자+-남성']\n",
    "\n",
    "df_pos = pd.DataFrame(columns=['title', 'source', 'date', 'text', version, 'query'])\n",
    "df_neg = pd.DataFrame(columns=['title', 'source', 'date', 'text', version, 'query'])\n",
    "df_pos_name = os.path.join(os.path.dirname(os.getcwd()), 'xlsx_data', '#3_'+version, f\"{version+'_pos'}.xlsx\")\n",
    "df_neg_name = os.path.join(os.path.dirname(os.getcwd()), 'xlsx_data', '#3_'+version, f\"{version+'_neg'}.xlsx\")\n",
    "\n",
    "\n",
    "df_list = []\n",
    "for query in qlist:\n",
    "    print(query)\n",
    "    path = os.path.join(os.path.dirname(os.getcwd()), 'xlsx_data', '#3_'+version, '#3_'+query)\n",
    "    g = map(pd.read_excel, glob.glob(path+\"/*.xlsx\"))\n",
    "    d = pd.concat(list(g), ignore_index=True)\n",
    "    d = d.drop(columns=['url'])\n",
    "    d['query'] = query\n",
    "    df_list.append(d)\n",
    "\n",
    "print('concat')\n",
    "df = pd.concat(df_list, ignore_index=True)\n",
    "df_list = list()\n",
    "print('df_pos')\n",
    "df_pos = df.nlargest(top, version)\n",
    "print('df_neg')\n",
    "df_neg = df.nsmallest(top, version)\n",
    "\n",
    "print('to_excel')\n",
    "writer_pos = pd.ExcelWriter(df_pos_name, engine='xlsxwriter')\n",
    "df_pos.to_excel(writer_pos)\n",
    "writer_pos.book.use_zip64()\n",
    "writer_pos.save()\n",
    "\n",
    "writer_neg = pd.ExcelWriter(df_neg_name, engine='xlsxwriter')\n",
    "df_neg.to_excel(writer_neg)\n",
    "writer_neg.book.use_zip64()\n",
    "writer_neg.save()"
   ]
  }
 ],
 "metadata": {
  "kernelspec": {
   "display_name": "Python 3",
   "language": "python",
   "name": "python3"
  },
  "language_info": {
   "codemirror_mode": {
    "name": "ipython",
    "version": 3
   },
   "file_extension": ".py",
   "mimetype": "text/x-python",
   "name": "python",
   "nbconvert_exporter": "python",
   "pygments_lexer": "ipython3",
   "version": "3.7.7"
  }
 },
 "nbformat": 4,
 "nbformat_minor": 4
}
