{
 "cells": [
  {
   "cell_type": "code",
   "execution_count": null,
   "metadata": {},
   "outputs": [],
   "source": [
    "import os\n",
    "import pandas as pd\n",
    "import time\n",
    "\n",
    "\n",
    "start = time.time()\n",
    "\n",
    "version = \"knu_score\" #\"new_dict_score\"\n",
    "top = \n",
    "qlist = [\"여성\", \"여자+-여성\", \"남성\", '남자+-남성']\n",
    "\n",
    "pos_score, neg_score = list(), list()\n",
    "df_pos = pd.DataFrame(columns=['title', 'source', 'date', 'text', version])\n",
    "df_neg = pd.DataFrame(columns=['title', 'source', 'date', 'text', version])\n",
    "df_pos_name = os.path.join(os.path.dirname(os.getcwd()), 'xlsx_data', '#3_'+version, f\"{version+'_pos'}.xlsx\")\n",
    "df_neg_name = os.path.join(os.path.dirname(os.getcwd()), 'xlsx_data', '#3_'+version, f\"{version+'_neg'}.xlsx\")\n",
    "\n",
    "for query in qlist:\n",
    "    for year in range(2000, 2020):\n",
    "        for month in range(1, 13):\n",
    "            xlsx_name = os.path.join(os.path.dirname(os.getcwd()), 'xlsx_data', '#3_'+version, \"#3_\" + query, \n",
    "                                     f\"{'#3_'+str(year)+'_'+str(month).zfill(2)+'_'+query}.xlsx\")\n",
    "\n",
    "            df = pd.read_excel(xlsx_name, index_col=0)\n",
    "            df = df.drop(columns=['url'])\n",
    "            for i in range(len(df)):\n",
    "\n",
    "                d = df.loc[i]\n",
    "                k = d['knu_score']\n",
    "\n",
    "                if k > 0 and k >= min(pos_score):\n",
    "                    pos_score.append(k)\n",
    "                    df_pos.append(d)\n",
    "                if len(pos_score) > top:\n",
    "                    ind = pos_score.index(min(pos_score))\n",
    "                    pos_score.pop(ind)\n",
    "                    df_pos.drop(ind)\n",
    "                    df_pos.reset_index(drop=True)\n",
    "\n",
    "                if k < 0 and k =< max(neg_score):\n",
    "                    neg_score.append(k)\n",
    "                    df_neg.append(d)\n",
    "                if len(neg_score) > top:\n",
    "                    ind = neg_score.index(max(neg_score))\n",
    "                    neg_score.pop(ind)\n",
    "                    df_neg.drop(ind)\n",
    "                    df_neg.reset_index(drop=True)\n",
    "                            \n",
    "df_pos.to_excel(df_pos_name)\n",
    "df_neg.to_excel(df_neg_name)\n",
    "\n",
    "end = time.time()\n",
    "print(end - start)"
   ]
  },
  {
   "cell_type": "code",
   "execution_count": null,
   "metadata": {},
   "outputs": [],
   "source": []
  },
  {
   "cell_type": "code",
   "execution_count": null,
   "metadata": {},
   "outputs": [],
   "source": []
  }
 ],
 "metadata": {
  "kernelspec": {
   "display_name": "Python 3",
   "language": "python",
   "name": "python3"
  },
  "language_info": {
   "codemirror_mode": {
    "name": "ipython",
    "version": 3
   },
   "file_extension": ".py",
   "mimetype": "text/x-python",
   "name": "python",
   "nbconvert_exporter": "python",
   "pygments_lexer": "ipython3",
   "version": "3.7.7"
  }
 },
 "nbformat": 4,
 "nbformat_minor": 4
}
