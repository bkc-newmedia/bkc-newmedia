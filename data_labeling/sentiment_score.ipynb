{
 "cells": [
  {
   "cell_type": "code",
   "execution_count": null,
   "metadata": {},
   "outputs": [],
   "source": [
    "import json\n",
    "import numpy as np\n",
    "\n",
    "with open('knu/SentiWord_info.json', encoding='utf-8-sig', mode='r') as f:\n",
    "    data = json.load(f)\n",
    "    \n",
    "data_list = [list(data[i].values()) for i in range(len(data))]\n",
    "data_array = np.asarray(data_list)\n",
    "\n",
    "word = np.char.strip(data_array[:,0])\n",
    "polarity = data_array[:,2]"
   ]
  },
  {
   "cell_type": "code",
   "execution_count": null,
   "metadata": {},
   "outputs": [],
   "source": [
    "def text2array(text):\n",
    "    from konlpy.tag import Okt\n",
    "    import numpy as np\n",
    "    \n",
    "    okt = Okt()\n",
    "    lines = text.split(\".\")\n",
    "    results = []\n",
    "    for line in lines:\n",
    "        wlist = okt.pos(line)\n",
    "        r = []\n",
    "        for w in wlist:\n",
    "            if not w[1] in ['Josa', 'Eomi', 'Punctuation']:\n",
    "                r.append(w[0])\n",
    "\n",
    "        rl = (\" \".join(r)).strip()\n",
    "        results.append(rl)\n",
    "\n",
    "    res = \" \".join(results)\n",
    "    res = res.split()\n",
    "    comb = [\"\".join(res[m:n+1]) for m in range(len(res)) for n in range(m,m+2) if n < len(res)]\n",
    "    comb = np.asarray(comb)\n",
    "    \n",
    "    return comb"
   ]
  },
  {
   "cell_type": "code",
   "execution_count": null,
   "metadata": {
    "scrolled": true
   },
   "outputs": [],
   "source": [
    "import os\n",
    "import time\n",
    "import pandas as pd\n",
    "from pathos.multiprocessing import ProcessingPool as Pool\n",
    "\n",
    "qlist = [\"여성\", \"여자+-여성\", \"남성\", '남자+-남성']\n",
    "\n",
    "start = time.time()\n",
    "\n",
    "version = \"knu_score\" #\"new_dict_score\"\n",
    "\n",
    "for query in qlist:\n",
    "    dir_ = os.path.join(os.path.dirname(os.getcwd()), 'xlsx_data', \"#3_\"+version, \"#3_\"+query)\n",
    "    if not os.path.exists(dir_):\n",
    "        os.makedirs(dir_)\n",
    "\n",
    "    for year in range(2000, 2020):\n",
    "        for month in range(1, 13):\n",
    "            xlsx_name1 = os.path.join(os.path.dirname(os.getcwd()), 'xlsx_data', \"#2_html2text\", \"#2_\" + query, '#2_merged_'+query, \n",
    "                                     f\"{'#2_'+str(year)+'_'+str(month).zfill(2)+'_'+query}.xlsx\")\n",
    "\n",
    "            xlsx_name2 = os.path.join(os.path.dirname(os.getcwd()), 'xlsx_data', '#3_'+version, \"#3_\" + query,\n",
    "                                     f\"{'#3_'+str(year)+'_'+str(month).zfill(2)+'_'+query}.xlsx\")\n",
    "\n",
    "            df = pd.read_excel(xlsx_name1, index_col=0)\n",
    "            SCORE = list()\n",
    "\n",
    "            for i in range(0, len(df), 12):\n",
    "\n",
    "                tlist = list()\n",
    "                for j in range(12):\n",
    "                    if i + j == len(df):\n",
    "                        break\n",
    "                    tlist.append(df.loc[i+j, 'text'])\n",
    "\n",
    "                with Pool(12) as p:\n",
    "                    clist = p.map(text2array, tlist)\n",
    "\n",
    "                for comb in clist:\n",
    "                    true_false = np.in1d(word, comb)\n",
    "                    t_score = polarity[true_false]\n",
    "                    if t_score.size:\n",
    "                        score = sum(t_score.astype(int))/len(t_score)\n",
    "                        SCORE.append(score)\n",
    "                    else:\n",
    "                        SCORE.append(0)\n",
    "\n",
    "            df[version] = SCORE\n",
    "            df.to_excel(xlsx_name2)\n",
    "\n",
    "end = time.time()\n",
    "print(end - start)"
   ]
  },
  {
   "cell_type": "code",
   "execution_count": null,
   "metadata": {},
   "outputs": [],
   "source": []
  }
 ],
 "metadata": {
  "kernelspec": {
   "display_name": "Python 3",
   "language": "python",
   "name": "python3"
  },
  "language_info": {
   "codemirror_mode": {
    "name": "ipython",
    "version": 3
   },
   "file_extension": ".py",
   "mimetype": "text/x-python",
   "name": "python",
   "nbconvert_exporter": "python",
   "pygments_lexer": "ipython3",
   "version": "3.7.7"
  }
 },
 "nbformat": 4,
 "nbformat_minor": 4
}
