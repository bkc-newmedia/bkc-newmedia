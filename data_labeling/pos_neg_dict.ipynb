{
 "cells": [
  {
   "cell_type": "code",
   "execution_count": null,
   "metadata": {},
   "outputs": [],
   "source": [
    "import os\n",
    "import calendar\n",
    "import pandas as pd\n",
    "import time\n",
    "import json\n",
    "import glob\n",
    "\n",
    "def generic_regroup(values, keys):\n",
    "    groups = dict()\n",
    "    valkeys = [k for k in values[0] if k not in key]\n",
    "    for d in values:\n",
    "        key = tuple(d[k] for k in keys)\n",
    "        if key in groups:\n",
    "            group = groups[key]\n",
    "            for k in valkeys:\n",
    "                group[k] += d[k]\n",
    "        else:\n",
    "            groups[key] = d.copy()\n",
    "    return list(groups.values())"
   ]
  },
  {
   "cell_type": "code",
   "execution_count": null,
   "metadata": {},
   "outputs": [],
   "source": [
    "\n",
    "from sklearn.feature_extraction.text import TfidfVectorizer\n",
    "from collections import defaultdict\n",
    "import pandas as pd\n",
    "import os\n",
    "\n",
    "from konlpy.tag import Okt\n",
    "okt = Okt()\n",
    "\n",
    "\n",
    "df_pos_name = os.path.join(os.path.dirname(os.getcwd()), 'xlsx_data', '#3_knu_score', f'{positive}.xlsx')\n",
    "df_pos = pd.read_excel(df_pos_name)\n",
    "\n",
    "p_corpus, p_result = list()\n",
    "\n",
    "for i in range(len(df_pos)):\n",
    "    text = df_pos.loc[i, 'text'].split('\\n')\n",
    "    p_corpus.append( \". \".join([\" \".join([f for f in okt.pos(e) \n",
    "                                        if not f[1] in ['Josa', 'Eomi', 'Punctuation']]) \n",
    "                              for e in text]))\n",
    "\n",
    "vectorizer = TfidfVectorizer()\n",
    "sp_matrix = vectorizer.fit_transform(p_corpus)\n",
    "\n",
    "word2id = defaultdict(lambda : 0)\n",
    "for idx, feature in enumerate(vectorizer.get_feature_names()):\n",
    "    word2id[feature] = idx\n",
    "\n",
    "\n",
    "for i, sent in enumerate(p_corpus):\n",
    "\n",
    "    seen = set()\n",
    "    p_result =  [ {'word': token, 'polarity': sp_matrix[i, word2id[token]], 'count': 1} \n",
    "               for token in sent.split() if sp_matrix[i, word2id[token]] > 0.2 ] # 0.02\n",
    "    p_result =  [x for x in result if not (x in seen or seen.add(x))]\n",
    "\n",
    "p_res = generic_regroup(p_result, (\"word\"))\n",
    "\n",
    "\n",
    "with open('pos_words.json', 'w') as json_file:\n",
    "    json.dump(p_res, json_file)"
   ]
  },
  {
   "cell_type": "code",
   "execution_count": null,
   "metadata": {},
   "outputs": [],
   "source": [
    "df_neg_name = os.path.join(os.path.dirname(os.getcwd()), 'xlsx_data', '#3_knu_score', f'{negative}.xlsx')\n",
    "df_neg = pd.read_excel(df_neg_name)\n",
    "\n",
    "n_corpus, n_result = list()\n",
    "\n",
    "for i in range(len(df_neg)):\n",
    "    text = df_neg.loc[i, 'text'].split('\\n')\n",
    "    n_corpus.append( \". \".join([\" \".join([f for f in okt.pos(e) \n",
    "                                        if not f[1] in ['Josa', 'Eomi', 'Punctuation']]) \n",
    "                              for e in text]))\n",
    "\n",
    "vectorizer = TfidfVectorizer()\n",
    "sp_matrix = vectorizer.fit_transform(p_corpus)\n",
    "\n",
    "word2id = defaultdict(lambda : 0)\n",
    "for idx, feature in enumerate(vectorizer.get_feature_names()):\n",
    "    word2id[feature] = idx\n",
    "\n",
    "\n",
    "for i, sent in enumerate(n_corpus):\n",
    "\n",
    "    seen = set()\n",
    "    n_result =  [ {'word': token, 'polarity': -sp_matrix[i, word2id[token]], 'count': 1} \n",
    "               for token in sent.split() if sp_matrix[i, word2id[token]] > 0.2 ] # 0.02\n",
    "    n_result =  [x for x in result if not (x in seen or seen.add(x))]\n",
    "\n",
    "n_res = generic_regroup(n_result, (\"word\"))\n",
    "\n",
    "\n",
    "with open('neg_words.json', 'w') as json_file:\n",
    "    json.dump(n_res, json_file)"
   ]
  },
  {
   "cell_type": "code",
   "execution_count": null,
   "metadata": {},
   "outputs": [],
   "source": [
    "import glob\n",
    "\n",
    "final = []\n",
    "for f in glob.glob(\"*.json\"):\n",
    "    with open(f, \"rb\") as infile:\n",
    "        final.append(json.load(infile))\n",
    "\n",
    "with open(\"pos_neg_dict.json\", \"wb\") as outfile:\n",
    "     json.dump(final, outfile)"
   ]
  },
  {
   "cell_type": "code",
   "execution_count": null,
   "metadata": {},
   "outputs": [],
   "source": []
  },
  {
   "cell_type": "code",
   "execution_count": null,
   "metadata": {},
   "outputs": [],
   "source": [
    "for key in d:\n",
    "    ddd[key] = [val/sum(d[key]) for val in d[key]]\n",
    "print list(ddd.items())"
   ]
  }
 ],
 "metadata": {
  "kernelspec": {
   "display_name": "Python 3",
   "language": "python",
   "name": "python3"
  },
  "language_info": {
   "codemirror_mode": {
    "name": "ipython",
    "version": 3
   },
   "file_extension": ".py",
   "mimetype": "text/x-python",
   "name": "python",
   "nbconvert_exporter": "python",
   "pygments_lexer": "ipython3",
   "version": "3.7.7"
  }
 },
 "nbformat": 4,
 "nbformat_minor": 4
}
