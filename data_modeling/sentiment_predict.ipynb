{
 "cells": [
  {
   "cell_type": "code",
   "execution_count": null,
   "metadata": {},
   "outputs": [],
   "source": [
    "import torch\n",
    "from torch.utils.data import DataLoader, RandomSampler, Dataset\n",
    "from torch import nn\n",
    "\n",
    "from typing import List\n",
    "from transformers import ElectraModel, ElectraTokenizer, get_linear_schedule_with_warmup\n",
    "from tqdm.auto import tqdm\n",
    "\n",
    "import os\n",
    "import glob\n",
    "import pandas as pd\n",
    "import numpy as np\n",
    "import random"
   ]
  },
  {
   "cell_type": "code",
   "execution_count": null,
   "metadata": {},
   "outputs": [],
   "source": [
    "seed_val = 42\n",
    "random.seed(seed_val)\n",
    "np.random.seed(seed_val)\n",
    "torch.manual_seed(seed_val)"
   ]
  },
  {
   "cell_type": "code",
   "execution_count": null,
   "metadata": {},
   "outputs": [],
   "source": [
    "bert_model = ElectraModel.from_pretrained(\"monologg/koelectra-base-v3-discriminator\")\n",
    "tokenizer = ElectraTokenizer.from_pretrained(\"monologg/koelectra-base-v3-discriminator\")"
   ]
  },
  {
   "cell_type": "code",
   "execution_count": null,
   "metadata": {},
   "outputs": [],
   "source": [
    "class SentimentDataset(Dataset):\n",
    "    def __init__(self, texts: List[str], tokenizer):\n",
    "        # 데이터 셋이 가져야 하는 기본적인 값들을 세팅하는 함수\n",
    "        self.texts = texts\n",
    "        self.tokenizer = tokenizer\n",
    "\n",
    "    def __getitem__(self, index:int):\n",
    "        # bert입력을 만들어 주는 곳\n",
    "        text = self.texts[index]\n",
    "        bert_inputs = self.tokenizer(text, padding=\"max_length\", truncation=True, max_length=512, return_tensors=\"pt\")\n",
    "    \n",
    "        bert_inputs[\"input_ids\"] = bert_inputs[\"input_ids\"].squeeze()\n",
    "        bert_inputs[\"attention_mask\"] = bert_inputs[\"attention_mask\"].squeeze()\n",
    "        bert_inputs[\"token_type_ids\"] = bert_inputs[\"token_type_ids\"].squeeze()\n",
    "    \n",
    "        return bert_inputs\n",
    "  \n",
    "    def __len__(self) -> int:\n",
    "        # 이 데이터셋의 크기\n",
    "        return len(self.texts)"
   ]
  },
  {
   "cell_type": "code",
   "execution_count": null,
   "metadata": {},
   "outputs": [],
   "source": [
    "class SentimentClassificationModel(nn.Module):\n",
    "    def __init__(self, bert):\n",
    "        super().__init__()\n",
    "        # BERT 모델을 입력 받기, 2차원으로 줄여주는 모델(weight) 추가\n",
    "        self.bert = bert\n",
    "        self.classification_layer = nn.Linear(768, 2)\n",
    "\n",
    "    def forward(self, batch_data):\n",
    "        # 1. BERT 모델의 결과 뽑기\n",
    "        bert_output = self.bert.forward(\n",
    "          input_ids = batch_data[\"input_ids\"],\n",
    "          attention_mask = batch_data[\"attention_mask\"], \n",
    "          token_type_ids = batch_data[\"token_type_ids\"])\n",
    "        pooled_output = bert_output[0][:,0]\n",
    "\n",
    "        #2. BERT 모델 결과를 2차원으로 만들기\n",
    "        classification_output = self.classification_layer.forward(pooled_output)\n",
    "        return classification_output"
   ]
  },
  {
   "cell_type": "code",
   "execution_count": null,
   "metadata": {},
   "outputs": [],
   "source": [
    "def predict_model(pred_dataloader):\n",
    "    \n",
    "    model.eval()# back progation을 하지 않는 거 빼곤 train과 거의 동일, freeze all weight\n",
    "    \n",
    "    predictions = []\n",
    "    \n",
    "    for batch_data in tqdm(pred_dataloader):\n",
    "        batch_data = {key:value.to(device) for key, value in batch_data.items()}\n",
    "        with torch.no_grad():\n",
    "            classification_output = model.forward(batch_data)\n",
    "        \n",
    "        logits = classification_output.detach().cpu().numpy()\n",
    "        predictions.append(logits)\n",
    "          \n",
    "    predictions = np.concatenate(predictions, axis = 0)\n",
    "\n",
    "    return predictions"
   ]
  },
  {
   "cell_type": "code",
   "execution_count": null,
   "metadata": {},
   "outputs": [],
   "source": [
    "device = torch.device('cuda' if torch.cuda.is_available() else 'cpu')\n",
    "model = SentimentClassificationModel(bert_model)\n",
    "model.load_state_dict(torch.load('checkpoints/checkpoint_cat3.pt', map_location=torch.device(device)))\n",
    "model.to(device)"
   ]
  },
  {
   "cell_type": "code",
   "execution_count": null,
   "metadata": {},
   "outputs": [],
   "source": [
    "batch_size = 32"
   ]
  },
  {
   "cell_type": "code",
   "execution_count": null,
   "metadata": {},
   "outputs": [],
   "source": [
    "dir_name = glob.glob('../xlsx_data/#4_result/*')\n",
    "g = [\"남성\", \"남자+-남성\", \"여성\", \"여자+-여성\"]\n",
    "\n",
    "for i, d in enumerate(dir_name):\n",
    "    for f in tqdm(glob.glob(d+\"/*.xlsx\")):\n",
    "        df = pd.read_excel(f, index_col=0)\n",
    "        if len(df) == 0:\n",
    "            df.to_excel(os.path.join(os.path.dirname(os.getcwd()), 'xlsx_data', '#4_result', \n",
    "                                     '#4_'+g[i], '#4_'+\"_\".join(f.split(\"_\")[-3:])))\n",
    "            continue\n",
    "        df['total'] = df['title'].str.strip() + \".\\n\" + df['text'].str.strip()\n",
    "        df = df.fillna('')\n",
    "        total_texts = [[d[index:index+512] for index in range(0, len(d)-256, 256)] for d in df['total'].tolist()]\n",
    "        all_texts = [text for paragraph in total_texts for text in paragraph]\n",
    "        all_indexes = [ list(range(len(paragraph))) for paragraph in total_texts]\n",
    "        pred_dataset = SentimentDataset(all_texts, tokenizer)\n",
    "        pred_dataloader = DataLoader(pred_dataset, batch_size=batch_size)\n",
    "        predictions = predict_model(pred_dataloader)\n",
    "        sp = 0\n",
    "        article_sentiment = list()\n",
    "        for indexes in all_indexes:\n",
    "            mean_logit = np.mean([predictions[index+sp] for index in indexes], axis=0)\n",
    "            article_sentiment.append(np.argmax(mean_logit, axis=-1))\n",
    "            sp += len(indexes)\n",
    "        df['sentiment'] = article_sentiment\n",
    "        df = df.drop(['total'], axis=1)\n",
    "        df.to_excel(os.path.join(os.path.dirname(os.getcwd()), 'xlsx_data', '#4_result', \n",
    "                                 '#4_'+g[i], '#4_'+\"_\".join(f.split(\"_\")[-3:])))"
   ]
  }
 ],
 "metadata": {
  "kernelspec": {
   "display_name": "Python 3",
   "language": "python",
   "name": "python3"
  },
  "language_info": {
   "codemirror_mode": {
    "name": "ipython",
    "version": 3
   },
   "file_extension": ".py",
   "mimetype": "text/x-python",
   "name": "python",
   "nbconvert_exporter": "python",
   "pygments_lexer": "ipython3",
   "version": "3.7.9"
  }
 },
 "nbformat": 4,
 "nbformat_minor": 4
}
