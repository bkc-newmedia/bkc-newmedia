{
 "cells": [
  {
   "cell_type": "code",
   "execution_count": null,
   "metadata": {},
   "outputs": [],
   "source": [
    "import torch\n",
    "from torch.utils.data import DataLoader, RandomSampler, Dataset\n",
    "from torch import nn\n",
    "from torch.nn.functional import cross_entropy\n",
    "from torch.optim import AdamW\n",
    "\n",
    "from typing import List\n",
    "from transformers import ElectraModel, ElectraTokenizer, get_linear_schedule_with_warmup\n",
    "from tqdm.auto import tqdm\n",
    "\n",
    "import os\n",
    "import glob\n",
    "import pandas as pd\n",
    "import numpy as np\n",
    "import matplotlib.pyplot as plt\n",
    "import random\n",
    "from sklearn.model_selection import train_test_split\n",
    "from sklearn.metrics import f1_score"
   ]
  },
  {
   "cell_type": "code",
   "execution_count": null,
   "metadata": {},
   "outputs": [],
   "source": [
    "seed_val = 42\n",
    "random.seed(seed_val)\n",
    "np.random.seed(seed_val)\n",
    "torch.manual_seed(seed_val)\n",
    "torch.cuda.manual_seed_all(seed_val)\n",
    "torch.cuda.is_available()"
   ]
  },
  {
   "cell_type": "code",
   "execution_count": null,
   "metadata": {},
   "outputs": [],
   "source": [
    "bert_model = ElectraModel.from_pretrained(\"monologg/koelectra-base-v3-discriminator\")\n",
    "tokenizer = ElectraTokenizer.from_pretrained(\"monologg/koelectra-base-v3-discriminator\")"
   ]
  },
  {
   "cell_type": "code",
   "execution_count": null,
   "metadata": {},
   "outputs": [],
   "source": [
    "df_name = glob.glob('../xlsx_data/category/#2_html2text/*')\n",
    "\n",
    "df_list = [pd.DataFrame() for i in range(7)]\n",
    "\n",
    "for i, d in enumerate(df_name):\n",
    "    for f in glob.glob(d+\"/*/*.xlsx\"):\n",
    "        df = pd.read_excel(f)\n",
    "        df_list[i] = df_list[i].append(df,ignore_index=True)\n",
    "    df_list[i]['label'] = i\n",
    "\n",
    "df_all = pd.concat(df_list, ignore_index=True)\n",
    "df_all['total'] = df_all['title'].str.strip() + \".\\n\" + df_all['text'].str.strip()"
   ]
  },
  {
   "cell_type": "code",
   "execution_count": null,
   "metadata": {},
   "outputs": [],
   "source": [
    "batch_size = 128\n",
    "epochs = 100\n",
    "patience = 3"
   ]
  },
  {
   "cell_type": "code",
   "execution_count": null,
   "metadata": {},
   "outputs": [],
   "source": [
    "class CategoryDataset(Dataset):\n",
    "    def __init__(self, texts: List[str], labels: List[int], tokenizer):\n",
    "        # 데이터 셋이 가져야 하는 기본적인 값들을 세팅하는 함수\n",
    "        self.texts = texts\n",
    "        self.labels = labels\n",
    "        self.tokenizer = tokenizer\n",
    "        assert len(texts) == len(labels)\n",
    "\n",
    "    def __getitem__(self, index:int):\n",
    "        # bert입력을 만들어 주는 곳\n",
    "        text = self.texts[index]\n",
    "        label = self.labels[index]\n",
    "        bert_inputs = self.tokenizer(text, padding=\"max_length\", truncation=True, max_length=32, return_tensors=\"pt\")\n",
    "    \n",
    "        bert_inputs[\"input_ids\"] = bert_inputs[\"input_ids\"].squeeze()\n",
    "        bert_inputs[\"attention_mask\"] = bert_inputs[\"attention_mask\"].squeeze()\n",
    "        bert_inputs[\"token_type_ids\"] = bert_inputs[\"token_type_ids\"].squeeze()\n",
    "    \n",
    "        bert_inputs[\"label\"] = torch.tensor(label, dtype=torch.long)\n",
    "        return bert_inputs\n",
    "  \n",
    "    def __len__(self) -> int:\n",
    "        # 이 데이터셋의 크기\n",
    "        return len(self.texts)"
   ]
  },
  {
   "cell_type": "code",
   "execution_count": null,
   "metadata": {},
   "outputs": [],
   "source": [
    "class CategoryClassificationModel(nn.Module):\n",
    "    def __init__(self, bert):\n",
    "        super().__init__()\n",
    "        # BERT 모델을 입력 받기, 2차원으로 줄여주는 모델(weight) 추가\n",
    "        self.bert = bert\n",
    "        self.classification_layer = nn.Linear(768, 7)\n",
    "\n",
    "    def forward(self, batch_data):\n",
    "        # 1. BERT 모델의 결과 뽑기 2. BERT 모델 결과를 2차원으로 만들기\n",
    "        bert_output = self.bert.forward(\n",
    "          input_ids = batch_data[\"input_ids\"],\n",
    "          attention_mask = batch_data[\"attention_mask\"], \n",
    "          token_type_ids = batch_data[\"token_type_ids\"])\n",
    "        pooled_output = bert_output[0][:,0]\n",
    "\n",
    "        #2. BERT 모델 결과를 2차원으로 만들기\n",
    "        classification_output = self.classification_layer.forward(pooled_output)\n",
    "        return classification_output"
   ]
  },
  {
   "cell_type": "code",
   "execution_count": null,
   "metadata": {},
   "outputs": [],
   "source": [
    "all_texts = df_all['total'].tolist()\n",
    "all_labels = list(map(int, df_all['label'].tolist()))\n",
    "\n",
    "del df_all"
   ]
  },
  {
   "cell_type": "code",
   "execution_count": null,
   "metadata": {},
   "outputs": [],
   "source": [
    "X_train, X_val, y_train, y_val = train_test_split(\n",
    "    all_texts, \n",
    "    all_labels, \n",
    "    test_size=0.15, \n",
    "    random_state = 42, \n",
    "    stratify = all_labels\n",
    ")"
   ]
  },
  {
   "cell_type": "code",
   "execution_count": null,
   "metadata": {},
   "outputs": [],
   "source": [
    "train_dataset = CategoryDataset(X_train, y_train, tokenizer)\n",
    "val_dataset = CategoryDataset(X_val, y_val, tokenizer)"
   ]
  },
  {
   "cell_type": "code",
   "execution_count": null,
   "metadata": {},
   "outputs": [],
   "source": [
    "train_dataloader = DataLoader(train_dataset, shuffle=True, batch_size=batch_size)\n",
    "val_dataloader = DataLoader(val_dataset, shuffle=True, batch_size=batch_size)"
   ]
  },
  {
   "cell_type": "code",
   "execution_count": null,
   "metadata": {},
   "outputs": [],
   "source": [
    "import gc\n",
    "gc.collect()"
   ]
  },
  {
   "cell_type": "code",
   "execution_count": null,
   "metadata": {},
   "outputs": [],
   "source": [
    "class EarlyStopping:\n",
    "    \"\"\"Early stops the training if validation loss doesn't improve after a given patience.\"\"\"\n",
    "    def __init__(self, patience=7, verbose=False, delta=0, path='checkpoints/cat/checkpoint_v1.pt', trace_func=print):\n",
    "        \"\"\"\n",
    "        Args:\n",
    "            patience (int): How long to wait after last time validation loss improved.\n",
    "                            Default: 7\n",
    "            verbose (bool): If True, prints a message for each validation loss improvement. \n",
    "                            Default: False\n",
    "            delta (float): Minimum change in the monitored quantity to qualify as an improvement.\n",
    "                            Default: 0\n",
    "            path (str): Path for the checkpoint to be saved to.\n",
    "                            Default: 'checkpoint.pt'\n",
    "            trace_func (function): trace print function.\n",
    "                            Default: print            \n",
    "        \"\"\"\n",
    "        self.patience = patience\n",
    "        self.verbose = verbose\n",
    "        self.counter = 0\n",
    "        self.best_score = None\n",
    "        self.early_stop = False\n",
    "        self.val_loss_min = np.Inf\n",
    "        self.delta = delta\n",
    "        self.path = path\n",
    "        self.trace_func = trace_func\n",
    "    def __call__(self, val_loss, model):\n",
    "\n",
    "        score = -val_loss\n",
    "\n",
    "        if self.best_score is None:\n",
    "            self.best_score = score\n",
    "            self.save_checkpoint(val_loss, model)\n",
    "        elif score < self.best_score + self.delta:\n",
    "            self.counter += 1\n",
    "            self.trace_func(f'EarlyStopping counter: {self.counter} out of {self.patience}')\n",
    "            if self.counter >= self.patience:\n",
    "                self.early_stop = True\n",
    "        else:\n",
    "            self.best_score = score\n",
    "            self.save_checkpoint(val_loss, model)\n",
    "            self.counter = 0\n",
    "\n",
    "    def save_checkpoint(self, val_loss, model):\n",
    "        '''Saves model when validation loss decrease.'''\n",
    "        if self.verbose:\n",
    "            self.trace_func(f'Validation loss decreased ({self.val_loss_min:.6f} --> {val_loss:.6f}).  Saving model ...')\n",
    "        torch.save(model.state_dict(), self.path)\n",
    "        self.val_loss_min = val_loss"
   ]
  },
  {
   "cell_type": "code",
   "execution_count": null,
   "metadata": {},
   "outputs": [],
   "source": [
    "def f1_score_func(preds, labels):\n",
    "    preds_flat = np.argmax(preds, axis=1).flatten()\n",
    "    labels_flat = labels.flatten()\n",
    "    return f1_score(labels_flat, preds_flat, average='weighted')"
   ]
  },
  {
   "cell_type": "code",
   "execution_count": null,
   "metadata": {},
   "outputs": [],
   "source": [
    "def evaluate_model(val_dataloader):\n",
    "    \n",
    "    model.eval()# back progation을 하지 않는 거 빼곤 train과 거의 동일, freeze all weight\n",
    "    \n",
    "    loss_val_total = 0\n",
    "    predictions, true_vals = [], []\n",
    "    \n",
    "    for batch_data in tqdm(val_dataloader):\n",
    "        \n",
    "        batch_data = {key:value.to(device) for key, value in batch_data.items()}\n",
    "        with torch.no_grad():\n",
    "            classification_output = model.forward(batch_data)\n",
    "            loss = cross_entropy(classification_output, batch_data[\"label\"])\n",
    "        \n",
    "        loss_val_total += loss.item()\n",
    "        \n",
    "        logits = classification_output.detach().cpu().numpy()\n",
    "        label_ids = batch_data['label'].cpu().numpy()\n",
    "        predictions.append(logits)\n",
    "        true_vals.append(label_ids)\n",
    "        \n",
    "    loss_val_avg = loss_val_total/len(val_dataloader)\n",
    "    \n",
    "    predictions = np.concatenate(predictions, axis = 0)\n",
    "    true_vals = np.concatenate(true_vals, axis=0)\n",
    "    \n",
    "    return loss_val_avg, predictions, true_vals"
   ]
  },
  {
   "cell_type": "code",
   "execution_count": null,
   "metadata": {},
   "outputs": [],
   "source": [
    "def train_model(model, patience, epochs):\n",
    "    \n",
    "    # to track the training loss as the model trains\n",
    "    train_losses = []\n",
    "    # to track the validation loss as the model trains\n",
    "    valid_losses = []\n",
    "    # to track the average training loss per epoch as the model trains\n",
    "    avg_train_losses = []\n",
    "    # to track the average validation loss per epoch as the model trains\n",
    "    avg_valid_losses = [] \n",
    "    \n",
    "    early_stopping = EarlyStopping(patience=patience, verbose=True)\n",
    "    \n",
    "    for epoch in tqdm(range(1, epochs+1)):\n",
    "        model.train()\n",
    "        loss_train_total = 0\n",
    "        progress_bar = tqdm(train_dataloader, desc = f\"Epoch {epoch}\")\n",
    "\n",
    "        for batch_data in progress_bar:\n",
    "\n",
    "            optimizer.zero_grad()\n",
    "            batch_data = {key:value.to(device) for key, value in batch_data.items()}\n",
    "            classification_output = model.forward(batch_data)\n",
    "\n",
    "            # 채점\n",
    "            loss = cross_entropy(classification_output, batch_data[\"label\"])\n",
    "            train_losses.append(loss.item())\n",
    "            # 잘못한 걸 밝히는 과정\n",
    "            loss.backward()\n",
    "\n",
    "            torch.nn.utils.clip_grad_norm_(model.parameters(), 1, 0)\n",
    "            # 모델의 두뇌를 수정하는 과정\n",
    "            optimizer.step()\n",
    "            scheduler.step()\n",
    "            # 이전에 잘못한 건 삭제 (봐주기)\n",
    "            #progress_bar.set_postfix({'training_loss': '{:.3f}'.format(loss.item()/len(batch_data))})\n",
    "            \n",
    "            del batch_data\n",
    "            gc.collect()\n",
    "            torch.cuda.empty_cache()\n",
    "        \n",
    "        tqdm.write(f\"\\nEpoch {epoch}\")\n",
    "\n",
    "        val_loss, predictions, true_vals = evaluate_model(val_dataloader)\n",
    "        valid_losses.append(val_loss)\n",
    "        \n",
    "        train_loss = np.average(train_losses)\n",
    "        valid_loss = np.average(valid_losses)\n",
    "        avg_train_losses.append(train_loss)\n",
    "        avg_valid_losses.append(valid_loss)\n",
    "        \n",
    "        epoch_len = len(str(epochs))\n",
    "        \n",
    "        print_msg = (f'[{epoch:>{epoch_len}}/{epochs:>{epoch_len}}] ' +\n",
    "                     f'train_loss: {train_loss:.5f} ' +\n",
    "                     f'valid_loss: {valid_loss:.5f}')\n",
    "        \n",
    "        tqdm.write(print_msg)\n",
    "        \n",
    "        val_f1 = f1_score_func(predictions, true_vals)\n",
    "        tqdm.write(f'F1 Score (weighted): {val_f1}')\n",
    "        \n",
    "        # clear lists to track next epoch\n",
    "        train_losses = []\n",
    "        valid_losses = []\n",
    "        \n",
    "        \n",
    "        early_stopping(valid_loss, model)\n",
    "\n",
    "        if early_stopping.early_stop:\n",
    "            print(\"Early stopping\")\n",
    "            break\n",
    "    \n",
    "    model.load_state_dict(torch.load(f'checkpoints/cat/checkpoint_v1.pt'))\n",
    "    \n",
    "    return  model, avg_train_losses, avg_valid_losses"
   ]
  },
  {
   "cell_type": "code",
   "execution_count": null,
   "metadata": {},
   "outputs": [],
   "source": [
    "model = CategoryClassificationModel(bert_model)\n",
    "device = torch.device('cuda' if torch.cuda.is_available() else 'cpu')\n",
    "model = model.to(device)"
   ]
  },
  {
   "cell_type": "code",
   "execution_count": null,
   "metadata": {},
   "outputs": [],
   "source": [
    "optimizer = AdamW(model.parameters(), lr = 3e-5, weight_decay=0.1)\n",
    "\n",
    "scheduler = get_linear_schedule_with_warmup(\n",
    "    optimizer,\n",
    "    num_warmup_steps  = 0,\n",
    "    num_training_steps  = len(train_dataloader)*epochs\n",
    ")"
   ]
  },
  {
   "cell_type": "code",
   "execution_count": null,
   "metadata": {},
   "outputs": [],
   "source": [
    "gc.collect()\n",
    "torch.cuda.empty_cache()"
   ]
  },
  {
   "cell_type": "code",
   "execution_count": null,
   "metadata": {},
   "outputs": [],
   "source": [
    "model, train_loss, valid_loss = train_model(model, patience, epochs)"
   ]
  },
  {
   "cell_type": "code",
   "execution_count": null,
   "metadata": {},
   "outputs": [],
   "source": [
    "# visualize the loss as the network trained\n",
    "fig = plt.figure(figsize=(10,8))\n",
    "plt.plot(range(1,len(train_loss)+1),train_loss, label='Training Loss')\n",
    "plt.plot(range(1,len(valid_loss)+1),valid_loss,label='Validation Loss')\n",
    "\n",
    "# find position of lowest validation loss\n",
    "minposs = valid_loss.index(min(valid_loss))+1 \n",
    "plt.axvline(minposs, linestyle='--', color='r',label='Early Stopping Checkpoint')\n",
    "\n",
    "plt.xlabel('epochs')\n",
    "plt.ylabel('loss')\n",
    "plt.ylim(0, 0.5) # consistent scale\n",
    "plt.xlim(0, len(train_loss)+1) # consistent scale\n",
    "plt.grid(True)\n",
    "plt.legend()\n",
    "plt.tight_layout()\n",
    "plt.show()\n",
    "fig.savefig(f'Models/S_loss_plot_cat_v1_1.png', bbox_inches='tight')"
   ]
  },
  {
   "cell_type": "code",
   "execution_count": null,
   "metadata": {},
   "outputs": [],
   "source": [
    "torch.save(model.state_dict(), f\"Models/BERT_cat_ft_v1_1.model\")"
   ]
  },
  {
   "cell_type": "code",
   "execution_count": null,
   "metadata": {},
   "outputs": [],
   "source": [
    "\"\"\"\n",
    "1: lr=3e-5\n",
    "\"\"\""
   ]
  }
 ],
 "metadata": {
  "kernelspec": {
   "display_name": "Python 3",
   "language": "python",
   "name": "python3"
  },
  "language_info": {
   "codemirror_mode": {
    "name": "ipython",
    "version": 3
   },
   "file_extension": ".py",
   "mimetype": "text/x-python",
   "name": "python",
   "nbconvert_exporter": "python",
   "pygments_lexer": "ipython3",
   "version": "3.7.7"
  }
 },
 "nbformat": 4,
 "nbformat_minor": 4
}
