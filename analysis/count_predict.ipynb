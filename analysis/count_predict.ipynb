{
 "cells": [
  {
   "cell_type": "code",
   "execution_count": null,
   "metadata": {},
   "outputs": [],
   "source": [
    "import os\n",
    "import pandas as pd\n",
    "import numpy as np\n",
    "import matplotlib.pyplot as plt\n",
    "import seaborn as sns\n",
    "import pygal\n",
    "import glob"
   ]
  },
  {
   "cell_type": "code",
   "execution_count": null,
   "metadata": {},
   "outputs": [],
   "source": [
    "df_name = sorted(glob.glob(os.path.dirname(os.getcwd())+'/xlsx_data/#4_result/#4_남성/*.xlsx'))\n",
    "pos, neg = 0, 0\n",
    "for d in df_name:\n",
    "    df = pd.read_excel(d)\n",
    "    if len(df) == 0:\n",
    "        continue\n",
    "    pos += df[df['sentiment'] == 1].shape[0]\n",
    "    neg += df[df['sentiment'] == 0].shape[0]\n",
    "\n",
    "print(pos / (pos + neg))\n",
    "print(neg / (pos + neg))"
   ]
  },
  {
   "cell_type": "code",
   "execution_count": null,
   "metadata": {
    "scrolled": true
   },
   "outputs": [],
   "source": [
    "df_name = sorted(glob.glob(os.path.dirname(os.getcwd())+'/xlsx_data/#4_result/#4_여성/*.xlsx'))\n",
    "pos, neg = 0, 0\n",
    "for d in df_name:\n",
    "    df = pd.read_excel(d)\n",
    "    print(d)\n",
    "    if len(df) == 0:\n",
    "        continue\n",
    "    df['text_len'] = df['text'].str.len()\n",
    "    df = df[df['text_len'] > 100]\n",
    "    pos += df[df['sentiment'] == 1].shape[0]\n",
    "    neg += df[df['sentiment'] == 0].shape[0]\n",
    "\n",
    "print(pos / (pos + neg))\n",
    "print(neg / (pos + neg))"
   ]
  }
 ],
 "metadata": {
  "kernelspec": {
   "display_name": "Python 3",
   "language": "python",
   "name": "python3"
  },
  "language_info": {
   "codemirror_mode": {
    "name": "ipython",
    "version": 3
   },
   "file_extension": ".py",
   "mimetype": "text/x-python",
   "name": "python",
   "nbconvert_exporter": "python",
   "pygments_lexer": "ipython3",
   "version": "3.8.5"
  }
 },
 "nbformat": 4,
 "nbformat_minor": 4
}
