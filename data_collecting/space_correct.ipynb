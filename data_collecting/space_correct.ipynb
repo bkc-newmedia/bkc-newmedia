{
 "cells": [
  {
   "cell_type": "code",
   "execution_count": 1,
   "metadata": {},
   "outputs": [
    {
     "name": "stdout",
     "output_type": "stream",
     "text": [
      "all tags length = 5734382 --> 5202867, (num_doc = 3724300))"
     ]
    }
   ],
   "source": [
    "from soyspacing.countbase import CountSpace\n",
    "\n",
    "corpus_fname = \"./kowiki.txt\"\n",
    "model_fname = \"./space-correct.model\"\n",
    "\n",
    "model = CountSpace()\n",
    "model.train(corpus_fname)\n",
    "model.save_model(model_fname, json_format=False)"
   ]
  },
  {
   "cell_type": "code",
   "execution_count": 2,
   "metadata": {},
   "outputs": [
    {
     "data": {
      "text/plain": [
       "('어릴 때보고 지금다시봐도 재밌어요',\n",
       " [0, 1, None, None, 1, 0, None, None, None, None, 1, None, None, None, 1])"
      ]
     },
     "execution_count": 2,
     "metadata": {},
     "output_type": "execute_result"
    }
   ],
   "source": [
    "from soyspacing.countbase import CountSpace\n",
    "\n",
    "model_fname = \"./space-correct.model\"\n",
    "model = CountSpace()\n",
    "model.load_model(model_fname, json_format=False)\n",
    "model.correct(\"어릴때보고 지금다시봐도 재밌어요\")"
   ]
  },
  {
   "cell_type": "code",
   "execution_count": 7,
   "metadata": {},
   "outputs": [
    {
     "data": {
      "text/plain": [
       "'각종 팟캐스트 방송 및 개인의 SNS 등을 통하여 박범계 의원에 대한 악의적 허위사실들을 지속적으로 적시․공표․유포해 왔다”고 주장했다박 의원은 .김 의원의 ‘자원봉사자 변 모 씨의 불법자금 1억 원 요구에 관하여 박범계 의원에게 4차례 보고했으나 묵살당했고, 불법자금 요구를 묵인․방조했다’는 것을 비롯해 ‘박범계 의원에게 권리금 이야기를 2차례 했다’, ‘구․시의원들에게 불법적인 특별당비를 요구했다’는 폭로를 악의적인 불법행위라고 주장했다. 또 ‘박범계 의원과 자원봉사자 변모씨, 대전시 전 시의원은 공범, 공모관계이며, 이들이 김소연 시의원에게 요구한 1억 원은 박범계 의원의 당대표 출마와 관련이 있다’는 허위사실을 공표했다고 지적했다.'"
      ]
     },
     "execution_count": 7,
     "metadata": {},
     "output_type": "execute_result"
    }
   ],
   "source": [
    "model.correct(\"각종 팟캐스트 방송 및 개인의 SNS 등을 통하여 박범계 의원에 대한 악의적 허위사실들을 지속적으로 적시․공표․유포해 왔다”고 주장했다박 의원은 .김 의원의 ‘자원봉사자 변 모 씨의 불법자금 1억 원 요구에 관하여 박범계 의원에게 4차례 보고했으나 묵살당했고, 불법자금 요구를 묵인․방조했다’는 것을 비롯해 ‘박범계 의원에게 권리금 이야기를 2차례 했다’, ‘구․시의원들에게 불법적인 특별당비를 요구했다’는 폭로를 악의적인 불법행위라고 주장했다.또 ‘박범계 의원과 자원봉사자 변모씨, 대전시 전 시의원은 공범, 공모관계이며, 이들이 김소연 시의원에게 요구한 1억 원은 박범계 의원의 당대표 출마와 관련이 있다’는 허위사실을 공표했다고 지적했다.\")[0]"
   ]
  },
  {
   "cell_type": "code",
   "execution_count": null,
   "metadata": {},
   "outputs": [],
   "source": []
  }
 ],
 "metadata": {
  "kernelspec": {
   "display_name": "Python 3",
   "language": "python",
   "name": "python3"
  },
  "language_info": {
   "codemirror_mode": {
    "name": "ipython",
    "version": 3
   },
   "file_extension": ".py",
   "mimetype": "text/x-python",
   "name": "python",
   "nbconvert_exporter": "python",
   "pygments_lexer": "ipython3",
   "version": "3.7.7"
  }
 },
 "nbformat": 4,
 "nbformat_minor": 4
}
