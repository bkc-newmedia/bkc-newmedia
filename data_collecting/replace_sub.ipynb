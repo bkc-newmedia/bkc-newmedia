{
 "cells": [
  {
   "cell_type": "code",
   "execution_count": null,
   "metadata": {},
   "outputs": [],
   "source": [
    "import os #여기부터 실행하세요. one drive에서 파일 다운받아두세요. \n",
    "import re\n",
    "import openpyxl\n",
    "import calendar\n",
    "from bs4 import BeautifulSoup\n",
    "from pathos.multiprocessing import ProcessingPool as Pool\n",
    "import pandas as pd\n",
    "import time\n",
    "\n",
    "cal = calendar.Calendar()\n",
    "\n",
    "query = \"여성\"\n",
    "query2 = \"#2_\" + query\n",
    "year = 2019\n",
    "xlist = list()\n",
    "\n",
    "for month in range(1, 13):\n",
    "        monthdays = [d for d in cal.itermonthdays(year, month) if d != 0]\n",
    "        for day in monthdays:\n",
    "            dd = str(year) + str(month).zfill(2) + str(day).zfill(2)\n",
    "            xlsx_name = os.path.join(os.path.dirname(os.getcwd()), 'xlsx_data', '#2_html2text', query2, '#2_'+ str(year) + '_'+query, \n",
    "                                     '{}.xlsx'.format(\"#2_\"+dd+\"_\"+query))\n",
    "            xlist.append(xlsx_name)"
   ]
  },
  {
   "cell_type": "code",
   "execution_count": null,
   "metadata": {},
   "outputs": [],
   "source": [
    "def replace_sub(text):\n",
    "                \n",
    "        from nltk.tokenize import regexp_tokenize\n",
    "        from string import punctuation\n",
    "\n",
    "        text = regexp_tokenize(text, r'[^\\s\\.][^\\.\\n]+')\n",
    "        text = \".\\n\".join(text) + \".\"\n",
    "\n",
    "        text = re.sub(r'\\d+\\.(\\n)\\d+', r'', text)\n",
    "        text = re.sub(r'\\b(\\w|[.])+@(?:[.]?\\w+)+\\b', ' ', text)\n",
    "        text = re.sub(r'\\bhttps?://\\w+(?:[.]?\\w+)+\\b', ' ', text)\n",
    "        text = re.sub(r'[^A-Za-z0-9가-힣ㄱ-하-ㅣ\\.?!\\n ]', ' ', text)\n",
    "        text = re.sub(r'\\b[a-z][A-Za-z0-9]+\\b', ' ', text)\n",
    "        text = re.sub(r'\\s{2,}', ' ', text) \n",
    "        text = re.sub(r'[\\(\\[].*?[\\)\\]]', '', text)\n",
    "        text = re.sub('【.*】','',text)\n",
    "        text = re.sub(r'\"\\\\#\\\\$%\\\\&\\'\\\\(\\\\)\\\\*\\\\+,\\\\-\\/:;<=>\\@\\\\[\\\\\\\\\\\\]\\\\^_`\\\\{\\\\|\\\\}\\\\~', '', text)\n",
    "        \n",
    "        # 여기부터 새로운 태그 추가\n",
    "        \n",
    "        \n",
    "        try: \n",
    "            text = text[:text.rindex('다.')+2]\n",
    "            return text\n",
    "        except:\n",
    "            return 0\n"
   ]
  },
  {
   "cell_type": "code",
   "execution_count": null,
   "metadata": {},
   "outputs": [],
   "source": [
    "\"\"\"\n",
    "유미 0-91 지은 92-182 은서 183-273 유리 274-364\n",
    "\"\"\"\n",
    "\n",
    "df = pd.read_excel(xlist[119]) # 여기에 숫자 바꿔가면서 하면 돼\n",
    "#for i in range(2, len(df)): # 한 번에 다 출력해서 하던가 아니면 하나하나 출력해서 하던가 해\n",
    "text = df.iloc[2, 3]\n",
    "print(replace_sub(text))"
   ]
  },
  {
   "cell_type": "code",
   "execution_count": null,
   "metadata": {},
   "outputs": [],
   "source": []
  }
 ],
 "metadata": {
  "kernelspec": {
   "display_name": "Python 3",
   "language": "python",
   "name": "python3"
  },
  "language_info": {
   "codemirror_mode": {
    "name": "ipython",
    "version": 3
   },
   "file_extension": ".py",
   "mimetype": "text/x-python",
   "name": "python",
   "nbconvert_exporter": "python",
   "pygments_lexer": "ipython3",
   "version": "3.7.7"
  }
 },
 "nbformat": 4,
 "nbformat_minor": 4
}
