{
 "cells": [
  {
   "cell_type": "code",
   "execution_count": 1,
   "metadata": {},
   "outputs": [],
   "source": [
    "import os #여기부터 실행하세요. one drive에서 파일 다운받아두세요. \n",
    "import re\n",
    "import openpyxl\n",
    "import calendar\n",
    "from bs4 import BeautifulSoup\n",
    "from pathos.multiprocessing import ProcessingPool as Pool\n",
    "import pandas as pd\n",
    "import time\n",
    "\n",
    "cal = calendar.Calendar()\n",
    "\n",
    "query = \"여성\"\n",
    "query2 = \"#2_\" + query\n",
    "year = 2019\n",
    "xlist = list()\n",
    "\n",
    "for month in range(1, 13):\n",
    "        monthdays = [d for d in cal.itermonthdays(year, month) if d != 0]\n",
    "        for day in monthdays:\n",
    "            dd = str(year) + str(month).zfill(2) + str(day).zfill(2)\n",
    "            xlsx_name = os.path.join(os.path.dirname(os.getcwd()), 'xlsx_data', '#2_html2text', query2, '#2_'+ str(year) + '_'+query, \n",
    "                                     '{}.xlsx'.format(\"#2_\"+dd+\"_\"+query))\n",
    "            xlist.append(xlsx_name)"
   ]
  },
  {
   "cell_type": "code",
   "execution_count": 239,
   "metadata": {},
   "outputs": [],
   "source": [
    "def replace_sub(text):\n",
    "                \n",
    "        from nltk.tokenize import regexp_tokenize\n",
    "        from string import punctuation\n",
    "        \n",
    "        tlist, ttlist= list(), list()\n",
    "        text = regexp_tokenize(text, r'[^\\s\\.][^\\.\\n]+')\n",
    "        for _ in text:\n",
    "            if len(_) > 11:\n",
    "                tlist.append(_)\n",
    "                \n",
    "        text = \".\\n\".join(tlist) + \".\"\n",
    "\n",
    "        text = re.sub(r'\\d+\\.(\\n)\\d+', r'', text)\n",
    "        text = re.sub(r'\\b(\\w|[.])+@(?:[.]?\\w+)+\\b', ' ', text)\n",
    "        text = re.sub(r'\\bhttps?://\\w+(?:[.]?\\w+)+\\b', ' ', text)\n",
    "        text = re.sub(r'[^A-Za-z0-9가-힣ㄱ-하-ㅣ\\.?!\\n ]', ' ', text)\n",
    "        text = re.sub(r'\\b[a-z][A-Za-z0-9]+\\b', ' ', text)\n",
    "        text = re.sub(r'\\s{2,}', ' ', text) \n",
    "        text = re.sub(r'[\\(\\[].*?[\\)\\]]', '', text)\n",
    "        text = re.sub('【.*】','',text)\n",
    "        text = re.sub(r'\"\\\\#\\\\$%\\\\&\\'\\\\(\\\\)\\\\*\\\\+,\\\\-\\/:;<=>\\@\\\\[\\\\\\\\\\\\]\\\\^_`\\\\{\\\\|\\\\}\\\\~', '', text)\n",
    "        \n",
    "        # 여기부터 새로운 태그 추가 #신문사 이름은 나중에 한꺼번에 뺄 것이니 추가하지 말 것\n",
    "        text = re.sub(r\"-\\d+-\", '', text) # 이거 전에 '-'제거하면 안됨.\n",
    "        text = re.sub(r\"\\b\\w{3}\\s기자\", '', text)\n",
    "        text = re.sub(r'\\s?[a-z]\\s', ' ', text)\n",
    "        text = re.sub(r'\\s+\\d+px?', '', text)\n",
    "        text = re.sub(r'\\s\\d+\\s\\d+\\s\\d+\\s', '', text)\n",
    "        text = re.sub(r'\\s?(\\d+\\s)', '', text)\n",
    "        text = re.sub(r'((\\d+[a-z])+)', '', text)\n",
    "        text = re.sub(r'[A-Z0-9a-z][A-Z0-9a-z]', '', text)\n",
    "        text = re.sub(r'\\b[A-Z0-9]\\b', '', text)\n",
    "\n",
    "        \n",
    "        text = text.replace('출처', '').replace('방송캡처', '').replace('-', '').replace('오류를 우회하기 위한 함수 추가.', '')\n",
    "        text = text.replace('동영상 뉴스.', '').replace('아래 텍스트는 실제 방송 내용과 차이가 있을 수 있으니 보다 정확한 내용은 방송으로 확인하시기 바랍니다.', '')\n",
    "        text = text.replace(' 사진 ', ' ').replace('경남신문의 콘텐츠는 저작권법의 보호를 받는 바 무단전재 복사 재배포를 금합니다.', '')\n",
    "        text = text.replace('돋움', '').replace('메인이미지', '').replace('. p .', \"\\n\").replace('정상처리되지 않았습니다.', '')\n",
    "        text = text.replace(' p ', '\\n').replace('IMGFLOATING ', '').replace('캡쳐 ', '').replace(' P ', '').replace('INSERT RANDOM NUMBER HERE', '')\n",
    "        text = text.replace('OptimaA Scrip Ta', '').replace('시원하게 털어드립니다.', '').replace('저작권자 인사이트 무단전재 및 재배포 금지 .', '')\n",
    "        text = text.replace('수직배너 와이드', '').replace('www.', '').replace('동영상이 안 나오면', '').replace('여기를 누르시면 동영상을 별도의 새 창에서 볼 수 있습니다.', '')\n",
    "        try: \n",
    "            text = text[:text.rindex('다.')+2]\n",
    "            \n",
    "            text = text.split(sep='.')\n",
    "            for _ in text:\n",
    "                if len(re.sub(r'\\s{2,}', ' ', _)) > 11:\n",
    "                    ttlist.append(re.sub(r'\\s{2,}', ' ', _))\n",
    "                    \n",
    "            text = \".\".join(ttlist) + \".\"\n",
    "            \n",
    "            return text\n",
    "        except:\n",
    "            return 0\n"
   ]
  },
  {
   "cell_type": "code",
   "execution_count": 263,
   "metadata": {},
   "outputs": [
    {
     "name": "stdout",
     "output_type": "stream",
     "text": [
      "https://news.naver.com/main/read.nhn?mode=LSD&mid=sec&sid1=102&oid=001&aid=0010556680\n",
      "\n",
      "경찰대 치안정책연구소 전망 보이스피싱 불법사금융 위험 경고 연합뉴스 제공 서울 연합뉴스 정부가 가계대출을 규제할 여러 대책을 내놓은 가운데 대출이 필요하거나 이자 부담에 시달리는 서민들을 상대로 한 지능범죄가 올해에도 기승을 부릴 것이라는 전망이 나왔다.\n",
      "경찰대 치안정책연구소는 1일 발간한 치안전망보고서에서 보이스피싱 전화금융사기 이나 불법 사금융 범죄 피해자를 양산하는 환경적 요인이 올해에도 쉽게 개선될 것으로 보이지 않는다 며 이런 범죄가 계속해서 증가할 것으로 보인다고 밝혔다.\n",
      "연구소는 지난해 보이스피싱과 불법 사금융 범죄 통계를 살펴본 결과 대출이 필요하지만 제도권의 대출 서비스를 이용하지 못하거나 대출이자 압박을 느끼는 서민들의 경제상황과 이들 범죄 양상 간 관련성이 발견됐다고 지적했다.\n",
      "농협 금감원 경찰청 보이스피싱 꺼져! 서울 연합뉴스 지난해 월5일 오전 서울역 앞에서 열린 보이스피싱 제로 캠페인에서 농협 금감원 경찰청 임직원들이 퍼포먼스를 하고 있다.\n",
      "이들은 캠페인을 통해 시민들에게 수사기관을 사칭해 개인정보가 유출되었다는 보이스피싱 전화를 조심하고 피해 발생시경찰청 과금융감독원 및 해당금융회사에 신고할 것을 당부했다.\n",
      "실제 금융감독원 통계를 보면 작년 상반기 보이스피싱 유형 가운데 대출빙자형 피해액이 1천4억원으로 전체 1천2억원 의 를 차지하며 정부기관 등 사칭형 피해액 8억원 을 크게 웃돌았다.\n",
      "경찰청의 불법 사금융 통계에서도 불법 채권추심 유사수신 불법 다단계 등 다른 유형은 모두 전년보다 검거 건수가 큰 폭으로 줄었으나 불법 대부업만증가했다.\n",
      "연구소는 이들 통계에 대해 공통적으로 가계부채 1천0조라는 우리나라의 현 실정을 반영하는 동시에 수많은 서민들이 범죄 피해자로 노출되는 원인을 알려준다 며 수많은 서민이 대출을 필요로 하지만 제도권에서 대출을 받지 못하거나 이자 압박을 심각하게 느낀다는 뜻 이라고 분석했다.\n",
      "지난해 정부는 신 新 총부채상환비율 도입 총부채원리금상환비율 조기 도입 등을 담은 가계부채 종합대책을 발표하고 기준금리를 올리는 등 가계 빚 잡기에 나섰다.\n",
      "연구소는 년에도 정부의 이런 노력이 계속되면 대출을 미끼로 한 범죄 대상이 증가할 것으로 내다봤다.\n",
      "연구소는 이러한 범죄를 막으려면 경찰 금융감독원 등 관계기관이 대국민 홍보를 강화하고 범죄자 처벌은 물론 범죄수익 추적과 보전 몰수 추징을 적극적으로 집행해야 한다고 지적했다.\n",
      "한편 작년 한 해 미투 열풍과 함께 주요 화두가 된 젠더 문제는 올해 치안환경에도 중요 요인으로 작용할 것이라고 연구소는 전망했다.\n",
      "연구소는 혜화역 시위 는 규모가 확대될 것으로 보이며 성 대결적 양상은 더 극단으로 치달을 것 이라고 진단했다.\n",
      "이어 여성 대상 범죄에 대한 관심도 현재보다 커지고 관련 신고 역시 늘어날 것이며 치안환경에서 데이트폭력 가정폭력 스토킹 등에 관한 대응과 피해자 보호 분야도 확대될 것 이라고 짚었다.\n",
      "아울러 양진호 한국미래기술 회장 사건 같은 갑질 폭력 서울 강서구 방 살인사건처럼 순간 화를 참지 못하고 저지르는 분노범죄 도 올 한해 주요 이슈가 될 것으로 연구소는 내다봤다.\n"
     ]
    }
   ],
   "source": [
    "\"\"\"\n",
    "유미 0-91 >>>>>>>>>> 0,6\n",
    "지은 92-182 >>>>>>>>>>\n",
    "은서 183-273 >>>>>>>>>>\n",
    "유리 274-364 >>>>>>>>>>\n",
    "\"\"\"\n",
    "\n",
    "df = pd.read_excel(xlist[0]) # 여기에 숫자 바꿔가면서 하면 돼\n",
    "\n",
    "n = 93\n",
    "text = df.iloc[n, 3]\n",
    "url = df.iloc[n, 4]\n",
    "print(url)\n",
    "print(replace_sub(text))\n",
    "#re.findall(r'((\\d+[a-z])+)', text)"
   ]
  },
  {
   "cell_type": "code",
   "execution_count": 47,
   "metadata": {
    "collapsed": true
   },
   "outputs": [
    {
     "data": {
      "text/plain": [
       "[<div class=\"cont_cont\"><ul> <li class=\"blank30\"></li><li id=\"content_li\"><div class=\"ad_content_right\"><ins class=\"adsbygoogle\" data-ad-client=\"ca-pub-2748737563670298\" data-ad-slot=\"6519210004\" style=\"display:inline-block;width:200px;height:200px\"></ins>\n",
       " <script>(adsbygoogle = window.adsbygoogle || []).push({});</script>\n",
       " </div><p>\n",
       " <br/> 2019년 경남에서는 소상공인 카드수수료 절감 정책인 ‘제로페이’가 본격 운영되고, 초·중·고교 모든 학생에게 무상급식이 제공된다. 신혼부부 생애최초 주택에 대해서는 지방세가 감면되고, 저소득층 노인 임플란트 시술 본인부담금도 지원된다. 경남도는 이 같은 내용을 담은 7개 분야 100개 시책과 제도를 발표했다.<br/>\n",
       " <br/>\n",
       " <div align=\"center\" id=\"content_imgbox\">\n",
       " <div class=\"photo_content\" style=\"padding: 10px 10px 3px; border: 1px solid rgb(255, 255, 255); border-image: none; width: 600px; text-align: left; color: rgb(102, 102, 102); font-family: 돋움,dotum; font-size: 12px; margin-bottom: 15px;\">\n",
       " <img alt=\"메인이미지\" src=\"/edb/nimages/2018/12/20181227.01010113000001.01L.jpg\" style=\"width: 100%; margin-bottom: 4px;\"/>\n",
       " <br/>\n",
       "  지난 12월 26일 창원시 가로수길 상점에서 김경수 도지사가 직접 제로페이 결제를 선보이고 있다. 이날 김 지사는 미가입 점주에게도 제로페이를 홍보하면서 가맹점 가입을 권유했다./김승권 기자/            </div>\n",
       " </div>\n",
       " <br/>◆도민생활·세제= 지방세·세외수입 체납자에 대한 신용카드 납부 제한이 폐지된다. 생애 최초로 주택을 구입하는 신혼부부(부부합산소득 7000만원, 외벌이 5000만원 이하 무주택자)에 대해 주택 취득세 50%가 감면된다.<br/>\n",
       " <br/>자영업자 신용카드 매출세액공제 한도가 현재 500만원에서 2021년까지 1000만원으로 상향된다. 근로장려금 지급 폭도 확대된다. 단독가구 연령요건(30세 이상)이 폐지되고, 소득·재산요건이 완화되며 최대지급액도 인상된다.<br/>\n",
       " <br/>◆일자리·기업= 소상공인 대상 경영상태 점검과 컨설팅 서비스를 제공하고, 이차(이자차액) 보전방식을 통해 소상공인에게 총 1300억원 규모의 정책자금을 지원한다. 소상공인 간편결제 서비스와 연계한 모바일 경남사랑 상품권을 발행한다. 200억원 규모다. 카드수수료 인하정책인 ‘제로페이’가 본격 시행된다. 고용·산업위기지역 내 중소기업에 대한 지방세 감면혜택이 적용되고, 위기지역 창업기업은 세제지원을 신설·확대한다. 또 도내 중소기업을 위한 R&amp;D 사업화 지원센터를 운영한다.<br/>\n",
       " <br/>◆교육= 지난해까지 초·중학생만 혜택을 받았던 무상급식이 올해부터 도내 모든 초·중·고교로 확대된다. 이와 함께 수학여행비·체육복·교복비 지원을 통해 무상교육을 시행한다. 또 저소득층 초·중·고 학생 대상 교육급여 지원액이 대폭 인상된다.<br/>\n",
       " <br/>◆사회복지·보건= 만 3~5세 어린이집 이용 아동 부모 부담 보육료를 지원한다. 법정 저소득층 전액지원은 유지하고, 그 외 아동도 추가지원(50%)한다. 6세 미만 전 아동에게 아동수당을 지급한다.<br/>\n",
       " <br/>월남전 참전명예수당이 신설돼 월 5만원의 명예수당을 지급한다. 국가보훈처 등 지급액과는 별도로 도에서 지급하는 것이다. 저소득층 노인 임플란트 시술 본임부담금을 지원한다.<br/>\n",
       " <br/>신규 500가구 이상 아파트 단지에는 국공립어린이집 설치가 의무화된다. 또 경남 예술인복지센터를 설치·운영해 예술인 생활환경 개선과 지원에 나선다.<br/>\n",
       " <br/>◆안전·교통= 아파트 등 공동주택 분쟁과 관련 품질검수단의 검수대상 및 횟수가 확대된다. 포항 지진과 김해 원룸 화재로 논란이 된 필로티 건축물에 대해 경남도가 도내 1만1016개동에 대한 일제 점검에 나선다. 다중이용업소 소방안전교육 이수 대상이 확대되고, 맹견 소유자의 의무교육도 실시한다. <br/>\n",
       " <br/>자동차 등록번호판이 하반기에 바뀐다. 차종 분류기호가 현행 2자리에서 하반기부터 3자리로 개편된다. ‘12가 3456’에서 ‘123가 4567’ 방식이다.<br/>\n",
       " <br/>◆농림·수산·축산= 취농인턴 청년에 대한 보수를 월 100만원 한도로 6개월간 지원하고, 후계농업경영인(청년) 대상 농업정책자금 대출이자가 최대 200만원까지 지원된다. 농촌지역 여성농업인에게 서점이나 공연, 미용 이용 시 연간 13만원을 지원하고, 공익을 실천하는 마을·단체와 농가에 장려금을 지원한다.<br/>\n",
       " <br/>2월 23일부터는 안전한 식용계란 유통을 위해 달걀 껍데기에 산란일 표시가 의무화된다.<br/>\n",
       " <br/>◆환경·에너지= 소음·진동, 대기·수질 오염 등 환경분쟁을 조정하는 전문 상담인력이 시·군 현장을 직접 찾는다. 노후 경유차의 저공해화 비용을 지원하며, LPG화물차 신차 구입 시 400만원을 지원한다. 초미세먼지 고농도 예보 시에는 노후 경유차 운행이 제한되며 차량 2부제를 실시한다. 신재생에너지 보급 확대를 위해 보조금이 추가 지급된다.<br/>\n",
       " <br/>관련 정보는 경남도(www.gyeongnam.go.kr)에서 확인할 수 있다.<p>\n",
       " </p>\n",
       " <p>차상호 기자            </p></p></li> <li class=\"blank30\"></li>&lt; 경남신문의 콘텐츠는 저작권법의 보호를 받는 바, 무단전재·복사·재배포를 금합니다. &gt;  \t\t\t\t\t<li class=\"blank50\"></li><li class=\"cont_more\"><a href=\"/search_new/search.php?sfrom=all&amp;cpage=1&amp;otype=date&amp;category=&amp;interval=all&amp;stype=member&amp;keyword=차상호\" title=\"기자검색\">차상호 기자의 다른기사 검색</a></li></ul></div>]"
      ]
     },
     "execution_count": 47,
     "metadata": {},
     "output_type": "execute_result"
    }
   ],
   "source": [
    "import requests\n",
    "from bs4 import BeautifulSoup\n",
    "\n",
    "tag = \"div.cont_cont\"\n",
    "\n",
    "raw = requests.get(url, headers={'User-Agent':'Mozilla/5.0'})\n",
    "html = BeautifulSoup(raw.text, \"html.parser\")\n",
    "html.select(tag)"
   ]
  },
  {
   "cell_type": "code",
   "execution_count": null,
   "metadata": {},
   "outputs": [],
   "source": []
  }
 ],
 "metadata": {
  "kernelspec": {
   "display_name": "Python 3",
   "language": "python",
   "name": "python3"
  },
  "language_info": {
   "codemirror_mode": {
    "name": "ipython",
    "version": 3
   },
   "file_extension": ".py",
   "mimetype": "text/x-python",
   "name": "python",
   "nbconvert_exporter": "python",
   "pygments_lexer": "ipython3",
   "version": "3.7.7"
  }
 },
 "nbformat": 4,
 "nbformat_minor": 4
}
