{
 "cells": [
  {
   "cell_type": "code",
   "execution_count": null,
   "metadata": {},
   "outputs": [],
   "source": [
    "import requests\n",
    "from bs4 import BeautifulSoup\n",
    "for i in range(0, 999999999):\n",
    "    # 00 시간 00 분 00 초 000?\n",
    "    for j in range(24):\n",
    "        for k in range(60):\n",
    "            for l in range(24):\n",
    "                for m in range(999):\n",
    "                    res = str(j).zfill(2) + str(k).zfill(2) + str(l).zfill(2)+ str(m).zfill(3)\n",
    "                    \n",
    "                    url = \"https://www.bigkinds.or.kr/news/detailView.do?docId=01100101.20200617\" + res\n",
    "                    raw = requests.get(url, headers={'User-Agent' : 'Mozilla/5.0'})\n",
    "                    html = BeautifulSoup(raw.text, 'html.parser')\n",
    "                    if '미분류' in html.text:\n",
    "                        print(res)\n",
    "                    else:\n",
    "                        print(url)"
   ]
  },
  {
   "cell_type": "code",
   "execution_count": null,
   "metadata": {},
   "outputs": [],
   "source": [
    "\"\"\"\n",
    "쌩판 아이디로 하기 힘들다. 수 범위가 너무 큼.\n",
    "동적 크롤링으로 하기.\n",
    "동적 크롤링으로 해서 페이지 100페이지로 설정해서 년도별로 수집하기.\n",
    "수집 정보는 id를 클릭해 얻을 수 있는 url을 일단 전부 한 칸에 넣어서 나중에 칼럼화 하자.\n",
    "\"\"\"\n"
   ]
  },
  {
   "cell_type": "code",
   "execution_count": 3,
   "metadata": {},
   "outputs": [
    {
     "data": {
      "text/plain": [
       "'\\nresult_list=[]\\nnew_dict=[]\\n\\nfor i in range(1, 1031):\\n    \\n    \\n    page_bar = driver.find_elements_by_css_selector(\"div.navigationLinks > *\")\\n    \\n    time.sleep(12)\\n    legal_profession = driver.find_elements_by_css_selector(\"div#search_results li\")\\n    \\n    \\n    for legal in legal_profession:\\n        name = legal.find_element_by_css_selector(\"h3 a\").text\\n        info = legal.find_element_by_css_selector(\"div h3 span span\").text\\n        new_dict={\\n            \\'name\\': name,\\n            \\'info\\': info,\\n        }\\n        result_list.append(new_dict)\\n    \\n    time.sleep(2)\\n    page_bar = driver.find_elements_by_css_selector(\"div.navigationLinks > *\")\\n    time.sleep(2)\\n    \\n    try:\\n        if i < 6:\\n            if i%5 != 0:\\n                page_bar[i%5].click()\\n            else:\\n                page_bar[5].click()\\n        else:\\n            if i%5 != 0:\\n                page_bar[i%5+2].click()\\n            else:\\n                page_bar[7].click()\\n    except:\\n        print(\"수집완료\")\\n        break\\n\\n        \\ndf = pd.DataFrame(result_list)  \\ntxt_name = os.path.join(os.path.dirname(os.getcwd()), \\'xlsx_data\\', f\"{\\'attorney_list\\'}.xlsx\")\\nexcel_writer = pd.ExcelWriter(txt_name, engine=\\'xlsxwriter\\')\\ndf.to_excel(excel_writer)\\nexcel_writer.save()\\n'"
      ]
     },
     "execution_count": 3,
     "metadata": {},
     "output_type": "execute_result"
    }
   ],
   "source": [
    "import os\n",
    "import time\n",
    "import pandas as pd\n",
    "from selenium import webdriver\n",
    "\n",
    "driver = webdriver.Chrome(\"./chromedriver\")\n",
    "\n",
    "driver.get(\"https://www.bigkinds.or.kr/\")\n",
    "\n",
    "#search_box = driver.find_element_by_css_selector(\"input#total-search-key\")\n",
    "#search_box.send_keys(\"여성\")\n",
    "# 검색버튼 누르기 // 검색버튼: button.spm\n",
    "#search_button = driver.find_element_by_css_selector(\n",
    "#    \"button.btn main-search__search-btn news-search-btn\")\n",
    "#search_button.click()"
   ]
  },
  {
   "cell_type": "code",
   "execution_count": null,
   "metadata": {},
   "outputs": [],
   "source": [
    "\"\"\"\n",
    "bigkinds에 주제 태그 등이 있지만 응답 시간이 너무 길어서 크롤링이 힘들다. \n",
    "네이버로 해야 겠다.\n",
    "\"\"\""
   ]
  },
  {
   "cell_type": "code",
   "execution_count": null,
   "metadata": {},
   "outputs": [],
   "source": []
  }
 ],
 "metadata": {
  "kernelspec": {
   "display_name": "Python 3",
   "language": "python",
   "name": "python3"
  },
  "language_info": {
   "codemirror_mode": {
    "name": "ipython",
    "version": 3
   },
   "file_extension": ".py",
   "mimetype": "text/x-python",
   "name": "python",
   "nbconvert_exporter": "python",
   "pygments_lexer": "ipython3",
   "version": "3.7.7"
  }
 },
 "nbformat": 4,
 "nbformat_minor": 4
}
