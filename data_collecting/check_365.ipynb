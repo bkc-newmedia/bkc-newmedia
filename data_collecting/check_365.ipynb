{
 "cells": [
  {
   "cell_type": "code",
   "execution_count": 9,
   "metadata": {},
   "outputs": [
    {
     "name": "stdout",
     "output_type": "stream",
     "text": [
      "20180131\n"
     ]
    }
   ],
   "source": [
    "import os\n",
    "import calendar\n",
    "\n",
    "cal = calendar.Calendar()\n",
    "year = 2018\n",
    "query = \"여성\"\n",
    "\n",
    "for month in range(1, 13):\n",
    "        monthdays = [d for d in cal.itermonthdays(year, month) if d != 0]\n",
    "        for day in monthdays:\n",
    "            s_date = str(year) + \".\" + str(month).zfill(2) + \".\" + str(day).zfill(2)\n",
    "            e_date = s_date \n",
    "            s_from = s_date.replace(\".\",\"\")\n",
    "            e_to = s_from\n",
    "\n",
    "            xlsx_name = os.path.join(os.path.dirname(os.getcwd()), 'xlsx_data', '#1_'+ str(year) + '_'+query, \n",
    "                                     '{}.xlsx'.format(\"#1_\"+s_from+\"_\"+query))\n",
    "            \n",
    "            if not os.path.isfile(xlsx_name):\n",
    "                print(s_from)"
   ]
  },
  {
   "cell_type": "code",
   "execution_count": null,
   "metadata": {},
   "outputs": [],
   "source": []
  }
 ],
 "metadata": {
  "kernelspec": {
   "display_name": "Python 3",
   "language": "python",
   "name": "python3"
  },
  "language_info": {
   "codemirror_mode": {
    "name": "ipython",
    "version": 3
   },
   "file_extension": ".py",
   "mimetype": "text/x-python",
   "name": "python",
   "nbconvert_exporter": "python",
   "pygments_lexer": "ipython3",
   "version": "3.7.6"
  }
 },
 "nbformat": 4,
 "nbformat_minor": 4
}
